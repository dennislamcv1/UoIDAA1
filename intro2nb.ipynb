{
 "cells": [
  {
   "cell_type": "markdown",
   "metadata": {},
   "source": [
    "# Introduction to the Jupyter Notebook\n",
    "\n",
    "-----"
   ]
  },
  {
   "cell_type": "markdown",
   "metadata": {},
   "source": [
    "The [Jupyter notebook][i] is a browser based scientific notebook, and is, therefore, extremely useful for learning and doing data science tasks. While [Jupyter][1] initially supported the [Python][2] programming language, via the [IPython kernel][ipyk], Jupyter now supports many  additional programming languages, including [R][3], [Julia][4], and [Haskell][5]. In addition, you can directly embed scripts, including [Bash shell][6] scripts, within a cell. This technology has gained tremendous popularity quite rapidly, and is continuing to be developed as [Project Jupyter][6], which highlights the programming language agnostic view the notebook concept has embraced. In addition, the Jupyter team develops and maintains a set of [Docker images][7] to simplify the adoption of notebooks.\n",
    "\n",
    "In this notebook, we will explore the Jupyter Notebook, specifically focusing on\n",
    "\n",
    "- Magics\n",
    "- Writing markdown formatted cells\n",
    "- Including math formulae\n",
    "- Writing and executing Python code\n",
    "- Visualizing plots\n",
    "- Writing and executing Unix commands\n",
    "- Writing and executing Bash shell scripts\n",
    "\n",
    "Our coverage of most of these topics will be brief, and given the time limitations of this course, some topics will be covered in more detail in subsequent lessons. For some topics, links will be provided for more detailed reference; a good example is Jupyter's [Rich Output][9] capabilities. However, we will explore some topics, such as writing and executing code, in more detail through the rest of this course. \n",
    "\n",
    "The Jupyter team has provided a nice [introduction to working][10] in an IPython Notebook, including how to use the menu commands, toolbar, and keyboard shortcuts. Of these, the most important points are to use the mouse to select a cell by single-clicking, and to enter a cell for editing by double-clicking. To have the IPython kernel process a cell, you can either enter control-return, which processes and remains in the current cell, or shift-return, which processes the cell and advances to the next cell. Finally, another important keyboard trick is to place a question mark, `?`, at the end of a IPython magic or Python keyword to bring up an IPython message window that provides online details for the magic or keyword.\n",
    "\n",
    "-----\n",
    "[i]: http://nbviewer.jupyter.org\n",
    "[1]: https://jupyter.org\n",
    "[2]: http://www.python.org\n",
    "[ipyk]: http://ipython.readthedocs.io/en/stable/\n",
    "[3]: https://irkernel.github.io\n",
    "[4]: https://github.com/JuliaLang/IJulia.jl\n",
    "[5]: https://github.com/gibiansky/IHaskell\n",
    "[6]: http://ipython.readthedocs.io/en/stable/interactive/magics.html#built-in-magic-commands\n",
    "[7]: https://hub.docker.com/u/jupyter/\n",
    "[9]: http://nbviewer.ipython.org/github/ipython/ipython/blob/master/examples/IPython%20Kernel/Rich%20Output.ipynb\n",
    "[10]: http://jupyter-notebook.readthedocs.io/en/latest/examples/Notebook/Notebook%20Basics.html"
   ]
  },
  {
   "cell_type": "markdown",
   "metadata": {},
   "source": [
    "## Magics\n",
    "\n",
    "Jupyter provides [specific commands][1], known as magics, that you can execute within a code cell to provide enhanced functionality to the current notebook. Magics are not part of the Python programming language, but can often make programming easier, especially within the notebook, and some magics can be used to improve your data processing work flow. Magics come in two types:\n",
    "\n",
    "1. line magics, and\n",
    "2. cell magics.\n",
    "\n",
    "To see the list of currently available magics, execute the following cell.\n",
    "\n",
    "----\n",
    "\n",
    "[1]: http://ipython.readthedocs.io/en/stable/interactive/magics.html#built-in-magic-commands"
   ]
  },
  {
   "cell_type": "code",
   "execution_count": 1,
   "metadata": {},
   "outputs": [
    {
     "data": {
      "application/json": {
       "cell": {
        "!": "OSMagics",
        "HTML": "Other",
        "SVG": "Other",
        "bash": "Other",
        "capture": "ExecutionMagics",
        "debug": "ExecutionMagics",
        "file": "Other",
        "html": "DisplayMagics",
        "javascript": "DisplayMagics",
        "js": "DisplayMagics",
        "latex": "DisplayMagics",
        "perl": "Other",
        "prun": "ExecutionMagics",
        "pypy": "Other",
        "python": "Other",
        "python2": "Other",
        "python3": "Other",
        "ruby": "Other",
        "script": "ScriptMagics",
        "sh": "Other",
        "svg": "DisplayMagics",
        "sx": "OSMagics",
        "system": "OSMagics",
        "time": "ExecutionMagics",
        "timeit": "ExecutionMagics",
        "writefile": "OSMagics"
       },
       "line": {
        "alias": "OSMagics",
        "alias_magic": "BasicMagics",
        "autocall": "AutoMagics",
        "automagic": "AutoMagics",
        "autosave": "KernelMagics",
        "bookmark": "OSMagics",
        "cat": "Other",
        "cd": "OSMagics",
        "clear": "KernelMagics",
        "colors": "BasicMagics",
        "config": "ConfigMagics",
        "connect_info": "KernelMagics",
        "cp": "Other",
        "debug": "ExecutionMagics",
        "dhist": "OSMagics",
        "dirs": "OSMagics",
        "doctest_mode": "BasicMagics",
        "ed": "Other",
        "edit": "KernelMagics",
        "env": "OSMagics",
        "gui": "BasicMagics",
        "hist": "Other",
        "history": "HistoryMagics",
        "killbgscripts": "ScriptMagics",
        "ldir": "Other",
        "less": "KernelMagics",
        "lf": "Other",
        "lk": "Other",
        "ll": "Other",
        "load": "CodeMagics",
        "load_ext": "ExtensionMagics",
        "loadpy": "CodeMagics",
        "logoff": "LoggingMagics",
        "logon": "LoggingMagics",
        "logstart": "LoggingMagics",
        "logstate": "LoggingMagics",
        "logstop": "LoggingMagics",
        "ls": "Other",
        "lsmagic": "BasicMagics",
        "lx": "Other",
        "macro": "ExecutionMagics",
        "magic": "BasicMagics",
        "man": "KernelMagics",
        "matplotlib": "PylabMagics",
        "mkdir": "Other",
        "more": "KernelMagics",
        "mv": "Other",
        "notebook": "BasicMagics",
        "page": "BasicMagics",
        "pastebin": "CodeMagics",
        "pdb": "ExecutionMagics",
        "pdef": "NamespaceMagics",
        "pdoc": "NamespaceMagics",
        "pfile": "NamespaceMagics",
        "pinfo": "NamespaceMagics",
        "pinfo2": "NamespaceMagics",
        "popd": "OSMagics",
        "pprint": "BasicMagics",
        "precision": "BasicMagics",
        "profile": "BasicMagics",
        "prun": "ExecutionMagics",
        "psearch": "NamespaceMagics",
        "psource": "NamespaceMagics",
        "pushd": "OSMagics",
        "pwd": "OSMagics",
        "pycat": "OSMagics",
        "pylab": "PylabMagics",
        "qtconsole": "KernelMagics",
        "quickref": "BasicMagics",
        "recall": "HistoryMagics",
        "rehashx": "OSMagics",
        "reload_ext": "ExtensionMagics",
        "rep": "Other",
        "rerun": "HistoryMagics",
        "reset": "NamespaceMagics",
        "reset_selective": "NamespaceMagics",
        "rm": "Other",
        "rmdir": "Other",
        "run": "ExecutionMagics",
        "save": "CodeMagics",
        "sc": "OSMagics",
        "set_env": "OSMagics",
        "store": "StoreMagics",
        "sx": "OSMagics",
        "system": "OSMagics",
        "tb": "ExecutionMagics",
        "time": "ExecutionMagics",
        "timeit": "ExecutionMagics",
        "unalias": "OSMagics",
        "unload_ext": "ExtensionMagics",
        "who": "NamespaceMagics",
        "who_ls": "NamespaceMagics",
        "whos": "NamespaceMagics",
        "xdel": "NamespaceMagics",
        "xmode": "BasicMagics"
       }
      },
      "text/plain": [
       "Available line magics:\n",
       "%alias  %alias_magic  %autocall  %automagic  %autosave  %bookmark  %cat  %cd  %clear  %colors  %config  %connect_info  %cp  %debug  %dhist  %dirs  %doctest_mode  %ed  %edit  %env  %gui  %hist  %history  %killbgscripts  %ldir  %less  %lf  %lk  %ll  %load  %load_ext  %loadpy  %logoff  %logon  %logstart  %logstate  %logstop  %ls  %lsmagic  %lx  %macro  %magic  %man  %matplotlib  %mkdir  %more  %mv  %notebook  %page  %pastebin  %pdb  %pdef  %pdoc  %pfile  %pinfo  %pinfo2  %popd  %pprint  %precision  %profile  %prun  %psearch  %psource  %pushd  %pwd  %pycat  %pylab  %qtconsole  %quickref  %recall  %rehashx  %reload_ext  %rep  %rerun  %reset  %reset_selective  %rm  %rmdir  %run  %save  %sc  %set_env  %store  %sx  %system  %tb  %time  %timeit  %unalias  %unload_ext  %who  %who_ls  %whos  %xdel  %xmode\n",
       "\n",
       "Available cell magics:\n",
       "%%!  %%HTML  %%SVG  %%bash  %%capture  %%debug  %%file  %%html  %%javascript  %%js  %%latex  %%perl  %%prun  %%pypy  %%python  %%python2  %%python3  %%ruby  %%script  %%sh  %%svg  %%sx  %%system  %%time  %%timeit  %%writefile\n",
       "\n",
       "Automagic is ON, % prefix IS NOT needed for line magics."
      ]
     },
     "execution_count": 1,
     "metadata": {},
     "output_type": "execute_result"
    }
   ],
   "source": [
    "%lsmagic"
   ]
  },
  {
   "cell_type": "markdown",
   "metadata": {},
   "source": [
    "-----\n",
    "\n",
    "### Line magic\n",
    "\n",
    "A line magic is prepended by a single `%` character, and will have any arguments specified all on the same line. As a caveat to this statement, if the line magic `Automagic` is set to `on`, the preceding `% \n",
    "character is not required. Some useful line magics include:\n",
    "\n",
    "- `%lsmagic`, which lists all currently defined line and cell magics for the current notebook,\n",
    "- `%matplotlib`, which allows inline plotting to be enabled (and is preferred over the old `%pylab` magic,\n",
    "- `%run`, which will run the named file as a program in the current cell,\n",
    "- `%autosave`, which sets the default autosave frequency in seconds, and\n",
    "- `%timeit`, which in line mode times the execution of a single line of code.\n",
    "\n",
    "-----"
   ]
  },
  {
   "cell_type": "markdown",
   "metadata": {},
   "source": [
    "\n",
    "### Cell magics\n",
    "\n",
    "A cell magic is prepended by two `%` characters, and they can have arguments that include both the current line and the remaining lines in the current cell. Thus, cell magics must be placed on the first line of a cell, and in general you can only have one cell magic per cell. Some useful line magics include:\n",
    "\n",
    "- '%%timeit', which can be used to time a multi-line Python statement,\n",
    "- '%%run', \n",
    "- '%%writefile' writes the contents of the cell into the named file,\n",
    "- '%%script', which can be used to create and run a script in a subprocess including Python, Bash, or R, and\n",
    "- '%%bash', which lets you run a Bash shell script and optionally capture the STDOUT and STDERR streams into variables.\n",
    "\n",
    "If you are uncertain how to use a particular magic, you can always obtain help from the IPython kernel by entering the magic by itself in a cell, adding a `?` character at the end, and executing the cell to bring up the IPython help window, as shown below for the `%%writefile` magic.\n",
    "\n",
    "![IPython magic help](images/ipython-help.png)\n",
    "\n",
    "-----"
   ]
  },
  {
   "cell_type": "markdown",
   "metadata": {},
   "source": [
    "## Header Cells\n",
    "\n",
    "While you can use Markdown, described next, to create formatted header lines, the recommended technique is to explicitly make a header cell. You can create a cell to hold the header text, for example \"Introduction to the Jupyter Notebook\" and change the cell type to the appropriate header level by using the cell toolbar, as shown below.\n",
    "\n",
    "![Cell Toolbar](images/cell-toolbar.png)\n",
    "\n",
    "-----"
   ]
  },
  {
   "cell_type": "markdown",
   "metadata": {},
   "source": [
    "## Raw NBConvert Cells\n",
    "\n",
    "The IPython Notebook can be converted into a number of different output formats. The `nbconvert` tool is used to convert from the default JSON native format of an `ipynb` file into the desired output format. The contents of any Raw NBConvert cell are left unmodified during output. This allows for post-processing of the generated file, such as with LaTeX or Restructured Text. These cells are beyond the scope of this course.\n",
    "\n",
    "-----"
   ]
  },
  {
   "cell_type": "markdown",
   "metadata": {},
   "source": [
    "## Markdown Cells\n",
    "\n",
    "[Markdown][1] is a plain text formatting syntax that you can easily use to write text that can be converted to formatted text, for example, HTML. Markdown was developed by John Gruber, who runs the popular [Daring Fireball][df] blog. Markdown has found many uses, two of which are relevant for this course:\n",
    "\n",
    "1. github documentation pages, and\n",
    "2. IPython notebook documentation cells.\n",
    "\n",
    "Markdown is [free software][2] that is available under a BSD—style open source license. Markdown will be covered in more detail in a subsequent lesson.\n",
    "\n",
    "-----\n",
    "\n",
    "[df]: http://daringfireball.net\n",
    "[1]: http://daringfireball.net/projects/markdown/\n",
    "[2]: http://daringfireball.net/projects/markdown/license\n",
    "\n",
    "-----"
   ]
  },
  {
   "cell_type": "markdown",
   "metadata": {},
   "source": [
    "## Unix Commands\n",
    "\n",
    "Later in this course, we will discuss how to explore the Unix file system at the Unix command line. We can actually execute nearly all of these commands from within the IPython Notebook by using a _Code Cell_ and preceding the Unix command by an exclamation point. For example, to display the current working directory, we would enter `!pwd` and subsequently execute this code cell. \n",
    "\n",
    "This capability is actually very useful; for example, we can put a `wget` command at the start of an IPython Notebook to retrieve a data set that will be used in the rest of the notebook. This makes the notebook self-contained and easy to share or distribute to run in a Docker container on another machine. This sequence can be seen in the following figure:\n",
    "\n",
    "![IPYthon notebook running Unix commands](images/ipynb-unix.png)\n",
    "\n",
    "If you try a complex command, like the `wget` example, in your Jupyter Notebook, you will also see the non-blocking capability of an IPython Code Cell, since the Unix command runs in the background allowing you to continue working within the Notebook. Working with the Unix filesystem will be covered in more detail in a subsequent lesson.\n",
    "\n",
    "-----"
   ]
  },
  {
   "cell_type": "markdown",
   "metadata": {},
   "source": [
    "## Writing and Executing Code\n",
    "\n",
    "Of course, the reason we are using IPython Notebooks is that they allow for in place development and execution of Python code. There are a number of direct benefits you accrue by developing and executing code in an IPython Notebook:\n",
    "\n",
    "1. Run code in place with the output displayed in the notebook,  \n",
    "2. Display visualizations inline,  \n",
    "3. Run code in the background, while you edit or run code in other cells,  \n",
    "4. Clean restarts of the IPython kernel, and  \n",
    "5. Built-in support for parallelization.\n",
    "\n",
    "The simplest of these capabilities to demonstrate is developing and running code in the Notebook. The code can be a single line or multiple lines. Code cells can be executed by using one of two key combinations: CONTROL-return, which executes the cell in place, or SHIFT-return, which executes the code and advances to the next cell. For example, as shown below, we have a single line of Python code that can be executed with the output directly shown."
   ]
  },
  {
   "cell_type": "code",
   "execution_count": 2,
   "metadata": {},
   "outputs": [
    {
     "name": "stdout",
     "output_type": "stream",
     "text": [
      "Hello World!\n"
     ]
    }
   ],
   "source": [
    "print(\"Hello World!\")"
   ]
  },
  {
   "cell_type": "markdown",
   "metadata": {},
   "source": [
    "-----\n",
    "\n",
    "### Python Programs\n",
    "\n",
    "A Jupyter Notebook code cell can take a full Python program, including importing Python libraries, which are in scope for the remainder of the Notebook. For example, we can compute the integral shown earlier by importing a constant and a function from the `numpy` library and an integration function from the `scipy` library:\n",
    "\n",
    "$\\int_0^{\\pi} \\sin(\\theta)\\ d\\theta = 2$ \n",
    "\n",
    "Note: At this point you are not expected to understand the Python statements being demonstrated. They are only being used for demonstration purposes and will be introduced more completely later in this course."
   ]
  },
  {
   "cell_type": "code",
   "execution_count": 3,
   "metadata": {},
   "outputs": [
    {
     "name": "stdout",
     "output_type": "stream",
     "text": [
      "The Integral = 2.0\n"
     ]
    }
   ],
   "source": [
    "import numpy as np\n",
    "from scipy.integrate import quad\n",
    "\n",
    "print(\"The Integral = %3.1f\" % quad(np.sin, -2.0 * np.pi, np.pi)[0])"
   ]
  },
  {
   "cell_type": "markdown",
   "metadata": {},
   "source": [
    "-----\n",
    "\n",
    "### Inline Figures\n",
    "\n",
    "When making data visualization, the resulting plots or images can be displayed inline. The recommended way to accomplish this is to use the `%matplotlib` line magic, which will inform the IPython kernel to display the image inline; this magic can take either the `inline` or the `notebook` value; the `inline` value will generally be preferred in this class for simplicity. Note that you may see suggestions to use the `%pylab` line magic, but this approach is no longer recommended since it pollutes the global namespace by importing several Python libraries."
   ]
  },
  {
   "cell_type": "code",
   "execution_count": 4,
   "metadata": {},
   "outputs": [
    {
     "data": {
      "image/png": "[encoded data removed]",
      "text/plain": [
       "<matplotlib.figure.Figure at 0x7f1766effba8>"
      ]
     },
     "metadata": {},
     "output_type": "display_data"
    }
   ],
   "source": [
    "%matplotlib inline\n",
    "\n",
    "theta = np.arange(0., np.pi, 0.01)\n",
    "y = np.sin(theta)\n",
    "\n",
    "import matplotlib.pyplot as plt\n",
    "\n",
    "plt.plot(theta, y)\n",
    "plt.xlabel(r\"$\\theta$\")\n",
    "plt.ylabel(r\"$\\sin$($\\theta$)\")\n",
    "plt.title(\"My Awesome Title\")\n",
    "plt.show()"
   ]
  },
  {
   "cell_type": "markdown",
   "metadata": {},
   "source": [
    "-----\n",
    "\n",
    "### Running Code in the Background\n",
    "\n",
    "One of the features of the IPython kernel used in a Jupyter notebook to run Python programs that novices fail to appreciate is the ability for code, by default, to run in the background. This is useful, as we will see throughout this course, both when developing, but also when executing code. For example, the following code block slowly prints out a series of numbers, by default the integers from 0 to 19. When we execute the cell, the integers slowly print out while we are free to edit or run code in other cells."
   ]
  },
  {
   "cell_type": "code",
   "execution_count": 5,
   "metadata": {},
   "outputs": [
    {
     "name": "stdout",
     "output_type": "stream",
     "text": [
      "  0,  1,  2,  3,  4,  5,  6,  7,  8,  9, 10, 11, 12, 13, 14, 15, 16, 17, 18, 19,"
     ]
    }
   ],
   "source": [
    "# First we handle our imports.\n",
    "import sys\n",
    "from time import sleep\n",
    "\n",
    "# Parameters that we can change\n",
    "s = 20\n",
    "t = 2\n",
    "\n",
    "# Now loop, printing out a new number before sleeping\n",
    "for i in range(s):\n",
    "    sys.stdout.write(\"%3d,\" % i)\n",
    "    sys.stdout.flush()\n",
    "    sleep(t)\n",
    "    \n",
    "# The code continues to run in the background"
   ]
  },
  {
   "cell_type": "markdown",
   "metadata": {},
   "source": [
    "-----\n",
    "\n",
    "### Clean Kernel Restarts\n",
    "\n",
    "In some occasions, our code might cause the Python interpreter to crash. While this normally might be a serious concern, the IPython kernel can detect this condition and initiate a clean restart. In this Notebook, we won't intentionally do this; however, you may experience a kernel crash when working on assignments or projects in this course.\n",
    "\n",
    "-----"
   ]
  },
  {
   "cell_type": "markdown",
   "metadata": {},
   "source": [
    "## Ancillary Information\n",
    "\n",
    "The following links are to additional documentation that you might find helpful in learning this material. Reading these web-accessible documents is completely optional.\n",
    "\n",
    "1. Project [Jupyter][1]\n",
    "2. Demonstration [Jupyter Notebook][2]\n",
    "3. Jupyter [Documentation][3]\n",
    "4. IPython [Documentation][4]\n",
    "\n",
    "-----\n",
    "[1]: https://jupyter.org/index.html\n",
    "[2]: https://try.jupyter.org\n",
    "[3]: https://jupyter.org/documentation.html\n",
    "[4]: http://ipython.org"
   ]
  },
  {
   "cell_type": "markdown",
   "metadata": {
    "deletable": false,
    "editable": false
   },
   "source": [
    "**&copy; 2017: Robert J. Brunner at the University of Illinois.**\n",
    "\n",
    "This notebook is released under the [Creative Commons license CC BY-NC-SA 4.0][ll]. Any reproduction, adaptation, distribution, dissemination or making available of this notebook for commercial use is not allowed unless authorized in writing by the copyright holder.\n",
    "\n",
    "[ll]: https://creativecommons.org/licenses/by-nc-sa/4.0/legalcode"
   ]
  }
 ],
 "metadata": {
  "kernelspec": {
   "display_name": "Python 3",
   "language": "python",
   "name": "python3"
  },
  "language_info": {
   "codemirror_mode": {
    "name": "ipython",
    "version": 3
   },
   "file_extension": ".py",
   "mimetype": "text/x-python",
   "name": "python",
   "nbconvert_exporter": "python",
   "pygments_lexer": "ipython3",
   "version": "3.6.5"
  }
 },
 "nbformat": 4,
 "nbformat_minor": 1
}
