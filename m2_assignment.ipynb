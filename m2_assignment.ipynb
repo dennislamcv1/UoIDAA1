{
 "cells": [
  {
   "cell_type": "markdown",
   "metadata": {
    "deletable": false,
    "editable": false,
    "nbgrader": {
     "checksum": "ded37debe4a7576d5e52280df5e8e042",
     "grade": false,
     "grade_id": "intro",
     "locked": true,
     "schema_version": 1,
     "solution": false
    }
   },
   "source": [
    "# Module 2 Assignment\n",
    "\n",
    "A few things you should keep in mind when working on assignments:\n",
    "\n",
    "1. Make sure you fill in any place that says `YOUR CODE HERE`. Do **not** write your answer in anywhere else other than where it says `YOUR CODE HERE`. Anything you write anywhere else will be removed or overwritten by the autograder.\n",
    "\n",
    "2. Before you submit your assignment, make sure everything runs as expected. Go to menubar, select _Kernel_, and restart the kernel and run all cells (_Restart & Run all_).\n",
    "\n",
    "3. Do not change the title (i.e. file name) of this notebook.\n",
    "\n",
    "4. Make sure that you save your work (in the menubar, select _File_ → _Save and CheckPoint_).\n"
   ]
  },
  {
   "cell_type": "code",
   "execution_count": 1,
   "metadata": {
    "deletable": false,
    "editable": false,
    "nbgrader": {
     "checksum": "75398915f0e150e824dfa5d1ed3711b1",
     "grade": false,
     "grade_id": "import",
     "locked": true,
     "schema_version": 1,
     "solution": false
    }
   },
   "outputs": [],
   "source": [
    "from nose.tools import assert_equal\n",
    "import numpy as np\n",
    "import math\n",
    "import random"
   ]
  },
  {
   "cell_type": "markdown",
   "metadata": {
    "deletable": false,
    "editable": false,
    "nbgrader": {
     "checksum": "3b451ed4440675aabd5b5168aa52b6f0",
     "grade": false,
     "grade_id": "p1_text",
     "locked": true,
     "schema_version": 1,
     "solution": false
    }
   },
   "source": [
    "# Problem 1: Making a tuple\n",
    "\n",
    "In this problem, you will create a tuple containing the values `1`, `2`, `3` in that order and save it as a variable called `my_tuple`."
   ]
  },
  {
   "cell_type": "code",
   "execution_count": 2,
   "metadata": {
    "deletable": false,
    "nbgrader": {
     "checksum": "39cd086ab978cd46c9ce1aafeadf1b17",
     "grade": false,
     "grade_id": "p1_answer",
     "locked": false,
     "schema_version": 1,
     "solution": true
    }
   },
   "outputs": [],
   "source": [
    "### YOUR CODE HERE\n",
    "my_tuple = (1,2,3)"
   ]
  },
  {
   "cell_type": "code",
   "execution_count": 3,
   "metadata": {
    "deletable": false,
    "editable": false,
    "nbgrader": {
     "checksum": "a5404457b5f828cea12e536373e1b3b6",
     "grade": true,
     "grade_id": "p1_test",
     "locked": true,
     "points": 1,
     "schema_version": 1,
     "solution": false
    }
   },
   "outputs": [],
   "source": [
    "assert_equal(type(my_tuple), tuple)\n",
    "assert_equal(my_tuple[0], 1)\n",
    "assert_equal(my_tuple[1], 2)\n",
    "assert_equal(my_tuple[2], 3)"
   ]
  },
  {
   "cell_type": "markdown",
   "metadata": {
    "deletable": false,
    "editable": false,
    "nbgrader": {
     "checksum": "56a25dbe5eb5dd70761b557a9595c9b3",
     "grade": false,
     "grade_id": "p2_text",
     "locked": true,
     "schema_version": 1,
     "solution": false
    }
   },
   "source": [
    "# Problem 2: Making a list\n",
    "\n",
    "In this problem, you will create a list containing the values `11`, `22`, `33` in that order and save it as a variable called my_list`."
   ]
  },
  {
   "cell_type": "code",
   "execution_count": 4,
   "metadata": {
    "deletable": false,
    "nbgrader": {
     "checksum": "4ea4b74347ac920980f6144bdc66e804",
     "grade": false,
     "grade_id": "p2_answer",
     "locked": false,
     "schema_version": 1,
     "solution": true
    }
   },
   "outputs": [],
   "source": [
    "### YOUR CODE HERE\n",
    "my_list = [11,22,33]"
   ]
  },
  {
   "cell_type": "code",
   "execution_count": 5,
   "metadata": {
    "deletable": false,
    "editable": false,
    "nbgrader": {
     "checksum": "23aebd39c88e405f3e0abb50022810b3",
     "grade": true,
     "grade_id": "p2_test",
     "locked": true,
     "points": 1,
     "schema_version": 1,
     "solution": false
    }
   },
   "outputs": [],
   "source": [
    "assert_equal(type(my_list), list)\n",
    "assert_equal(my_list[0], 11)\n",
    "assert_equal(my_list[1], 22)\n",
    "assert_equal(my_list[2], 33)"
   ]
  },
  {
   "cell_type": "markdown",
   "metadata": {
    "deletable": false,
    "editable": false,
    "nbgrader": {
     "checksum": "b1f309afabb706b6c92a4c3138d26e3b",
     "grade": false,
     "grade_id": "p3_text",
     "locked": true,
     "schema_version": 1,
     "solution": false
    }
   },
   "source": [
    "# Problem 3: Making a numpy array\n",
    "\n",
    "In this problem, you will create a numpy array containing the values `10`, `20`, `30` in that order and save it as a variable called `my_array`."
   ]
  },
  {
   "cell_type": "code",
   "execution_count": 6,
   "metadata": {
    "deletable": false,
    "nbgrader": {
     "checksum": "40c07854ac26a30ee6526e265f8d1727",
     "grade": false,
     "grade_id": "p3_answer",
     "locked": false,
     "schema_version": 1,
     "solution": true
    }
   },
   "outputs": [],
   "source": [
    "### YOUR CODE HERE\n",
    "my_array = np.array([10,20,30])\n",
    "#type(my_array)"
   ]
  },
  {
   "cell_type": "code",
   "execution_count": 7,
   "metadata": {
    "deletable": false,
    "editable": false,
    "nbgrader": {
     "checksum": "dd841e463e1cca84af3c3cc80a1a12b6",
     "grade": true,
     "grade_id": "p3_test",
     "locked": true,
     "points": 1,
     "schema_version": 1,
     "solution": false
    }
   },
   "outputs": [],
   "source": [
    "assert_equal(type(my_array), np.ndarray)\n",
    "assert_equal(my_array[0], 10)\n",
    "assert_equal(my_array[1], 20)\n",
    "assert_equal(my_array[2], 30)"
   ]
  },
  {
   "cell_type": "markdown",
   "metadata": {
    "deletable": false,
    "editable": false,
    "nbgrader": {
     "checksum": "0c9b2b53de51f67272e68da024ce3a2f",
     "grade": false,
     "grade_id": "p4_text",
     "locked": true,
     "schema_version": 1,
     "solution": false
    }
   },
   "source": [
    "# Problem 4: Making a dictionary\n",
    "\n",
    "In this problem, you will create a dictionary with keys `\"first\"`, `\"second\"`, and `\"third\"` with corresponding values `1`, `2`, and `3` and save it as a variable called `my_dictionary`."
   ]
  },
  {
   "cell_type": "code",
   "execution_count": 8,
   "metadata": {
    "deletable": false,
    "nbgrader": {
     "checksum": "c52ea8bd699332729a4fa2ebaee99047",
     "grade": false,
     "grade_id": "p4_answer",
     "locked": false,
     "schema_version": 1,
     "solution": true
    }
   },
   "outputs": [],
   "source": [
    "### YOUR CODE HERE\n",
    "my_dictionary = {\"first\": 1   , \"second\": 2   , \"third\": 3  }"
   ]
  },
  {
   "cell_type": "code",
   "execution_count": 9,
   "metadata": {
    "deletable": false,
    "editable": false,
    "nbgrader": {
     "checksum": "658b445b22d053fc32de4e98d44fea34",
     "grade": true,
     "grade_id": "p4_test",
     "locked": true,
     "points": 1,
     "schema_version": 1,
     "solution": false
    }
   },
   "outputs": [],
   "source": [
    "assert_equal(type(my_dictionary), dict)\n",
    "assert_equal(my_dictionary[\"first\"], 1)\n",
    "assert_equal(my_dictionary[\"second\"], 2)\n",
    "assert_equal(my_dictionary[\"third\"], 3)"
   ]
  },
  {
   "cell_type": "markdown",
   "metadata": {
    "deletable": false,
    "editable": false,
    "nbgrader": {
     "checksum": "6fd78902c44497710edb3a10778f88e0",
     "grade": false,
     "grade_id": "p5_text",
     "locked": true,
     "schema_version": 1,
     "solution": false
    }
   },
   "source": [
    "# Problem 5: Indexing and slicing a numpy array\n",
    "\n",
    "In this problem, you will practice taking values from the numpy array (which you saved as `my_array`) in problem 3.\n",
    "\n",
    "Use indexing or slicing to do the following:\n",
    "\n",
    "Save the first element of `my_array` in a variable called `first`.\n",
    "\n",
    "Save the last element of `my_array` in a variable called `last`.\n",
    "\n",
    "Save the first element and second element of `my_array` in a variable called `first_and_second`."
   ]
  },
  {
   "cell_type": "code",
   "execution_count": 10,
   "metadata": {
    "deletable": false,
    "nbgrader": {
     "checksum": "af9d00e07a772394648bbc9650a20e14",
     "grade": false,
     "grade_id": "p5_answer",
     "locked": false,
     "schema_version": 1,
     "solution": true
    }
   },
   "outputs": [],
   "source": [
    "### YOUR CODE HERE\n",
    "first = my_array[0]\n",
    "last = my_array[-1]\n",
    "first_and_second = np.array([first,last])\n",
    "#type(first_and_second)"
   ]
  },
  {
   "cell_type": "code",
   "execution_count": 11,
   "metadata": {
    "deletable": false,
    "editable": false,
    "nbgrader": {
     "checksum": "8e5121ccc1fbd6175ffcee76f7880cfb",
     "grade": true,
     "grade_id": "p5_test",
     "locked": true,
     "points": 1,
     "schema_version": 1,
     "solution": false
    }
   },
   "outputs": [],
   "source": [
    "assert_equal(type(first_and_second), np.ndarray)\n",
    "assert_equal(first_and_second[0]**2, 100)\n",
    "assert_equal(first, 10)\n",
    "assert_equal(last, 30)"
   ]
  },
  {
   "cell_type": "markdown",
   "metadata": {
    "deletable": false,
    "editable": false,
    "nbgrader": {
     "checksum": "ddef321913eb9c6da744795a6d27c34c",
     "grade": false,
     "grade_id": "p6_text",
     "locked": true,
     "schema_version": 1,
     "solution": false
    }
   },
   "source": [
    "# Problem 6: Writing a Square Root Function\n",
    "\n",
    "In this problem you will finish writing a function that takes the square root of a number and return it. We have created the function header for you."
   ]
  },
  {
   "cell_type": "code",
   "execution_count": 12,
   "metadata": {
    "deletable": false,
    "nbgrader": {
     "checksum": "eaac4c7224efec698a712b8b00c2521a",
     "grade": false,
     "grade_id": "p6_answer",
     "locked": false,
     "schema_version": 1,
     "solution": true
    }
   },
   "outputs": [],
   "source": [
    "def sqrt(n):\n",
    "    '''\n",
    "    Computes the square root of a number n\n",
    "    n: An integer to take the square root of.\n",
    "    '''\n",
    "    ### YOUR CODE HERE\n",
    "    return n**0.5"
   ]
  },
  {
   "cell_type": "code",
   "execution_count": 13,
   "metadata": {
    "deletable": false,
    "editable": false,
    "nbgrader": {
     "checksum": "ebd95fd3ecec7c4cf1bd17509505f35d",
     "grade": true,
     "grade_id": "p6_test",
     "locked": true,
     "points": 1,
     "schema_version": 1,
     "solution": false
    }
   },
   "outputs": [],
   "source": [
    "assert_equal(3, sqrt(9))\n",
    "for i in range(1, 10):\n",
    "    n = random.randint(1, 200)\n",
    "    assert_equal(math.sqrt(n), sqrt(n))"
   ]
  },
  {
   "cell_type": "markdown",
   "metadata": {
    "deletable": false,
    "editable": false,
    "nbgrader": {
     "checksum": "265537284675ac74b2b05caba4477c2b",
     "grade": false,
     "grade_id": "p7_text",
     "locked": true,
     "schema_version": 1,
     "solution": false
    }
   },
   "source": [
    "# Problem 7: Taking the square root of each number in a list.\n",
    "\n",
    "For this problem in the `sqrt_list` function:\n",
    "1. Take the square root of each item in the list,\n",
    "2. Store each squared item in another list, and\n",
    "3. Return this list."
   ]
  },
  {
   "cell_type": "code",
   "execution_count": 14,
   "metadata": {
    "deletable": false,
    "nbgrader": {
     "checksum": "3048fc40150754a945ecc6fb94300e95",
     "grade": false,
     "grade_id": "p7_answer",
     "locked": false,
     "schema_version": 1,
     "solution": true
    }
   },
   "outputs": [],
   "source": [
    "def sqrt_list(m):\n",
    "    '''\n",
    "    Computes the square root of each number in list m.\n",
    "    m: A list full of integers.\n",
    "    '''\n",
    "    ### YOUR CODE HERE\n",
    "    \n",
    "    return [sqrt(x) for x in m]\n",
    "    \n",
    "    \n",
    "        "
   ]
  },
  {
   "cell_type": "code",
   "execution_count": 15,
   "metadata": {
    "deletable": false,
    "editable": false,
    "nbgrader": {
     "checksum": "bac7df662abef962c4c10c81320232dd",
     "grade": true,
     "grade_id": "p7_test",
     "locked": true,
     "points": 1,
     "schema_version": 1,
     "solution": false
    }
   },
   "outputs": [],
   "source": [
    "perfect_squares = [81,64,49,36,25,16,9,4]  # List containing perfect squares\n",
    "assert_equal(sqrt_list(perfect_squares), [9, 8, 7, 6, 5, 4, 3, 2])\n",
    "assert_equal(sqrt_list([100, 121, 144, 169]), [10, 11, 12, 13])"
   ]
  },
  {
   "cell_type": "markdown",
   "metadata": {
    "deletable": false,
    "editable": false
   },
   "source": [
    "**&copy; 2017: Robert J. Brunner at the University of Illinois.**\n",
    "\n",
    "This notebook is released under the [Creative Commons license CC BY-NC-SA 4.0][ll]. Any reproduction, adaptation, distribution, dissemination or making available of this notebook for commercial use is not allowed unless authorized in writing by the copyright holder.\n",
    "\n",
    "[ll]: https://creativecommons.org/licenses/by-nc-sa/4.0/legalcode "
   ]
  }
 ],
 "metadata": {
  "anaconda-cloud": {},
  "coursera": {
   "course_slug": "data-analytics-accountancy-1",
   "graded_item_id": "KcXYY",
   "launcher_item_id": "m2_assignment"
  },
  "kernelspec": {
   "display_name": "Python 3 (ipykernel)",
   "language": "python",
   "name": "python3"
  },
  "language_info": {
   "codemirror_mode": {
    "name": "ipython",
    "version": 3
   },
   "file_extension": ".py",
   "mimetype": "text/x-python",
   "name": "python",
   "nbconvert_exporter": "python",
   "pygments_lexer": "ipython3",
   "version": "3.9.12"
  }
 },
 "nbformat": 4,
 "nbformat_minor": 2
}
