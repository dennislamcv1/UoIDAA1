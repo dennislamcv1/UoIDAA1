{
 "cells": [
  {
   "cell_type": "markdown",
   "metadata": {},
   "source": [
    "# Module 7 Assignment"
   ]
  },
  {
   "cell_type": "markdown",
   "metadata": {
    "deletable": false,
    "editable": false,
    "nbgrader": {
     "checksum": "736f2e67096217c96e7489650c498294",
     "grade": false,
     "grade_id": "intro",
     "locked": true,
     "schema_version": 1,
     "solution": false
    }
   },
   "source": [
    "A few things you should keep in mind when working on assignments:\n",
    "\n",
    "1. Make sure you fill in any place that says `YOUR CODE HERE`. Do **not** write your answer in anywhere else other than where it says `YOUR CODE HERE`. Anything you write anywhere else will be removed or overwritten by the autograder.\n",
    "\n",
    "2. Before you submit your assignment, make sure everything runs as expected. Go to menubar, select _Kernel_, and restart the kernel and run all cells (_Restart & Run all_).\n",
    "\n",
    "3. Do not change the title (i.e. file name) of this notebook.\n",
    "\n",
    "4. Make sure that you save your work (in the menubar, select _File_ → _Save and CheckPoint_)"
   ]
  },
  {
   "cell_type": "code",
   "execution_count": 1,
   "metadata": {
    "collapsed": true,
    "deletable": false,
    "nbgrader": {
     "checksum": "27bb2c63ba671435e15e1aecb628c69c",
     "grade": false,
     "grade_id": "import",
     "locked": true,
     "schema_version": 1,
     "solution": false
    }
   },
   "outputs": [],
   "source": [
    "import pandas as pd\n",
    "import numpy as np\n",
    "\n",
    "import seaborn as sns\n",
    "import matplotlib as mpl\n",
    "import matplotlib.pyplot as plt\n",
    "import scipy.stats as st\n",
    "from nose.tools import assert_equal, assert_almost_equal\n",
    "from nose.tools import assert_equal, assert_is_instance, assert_is_not\n",
    "%matplotlib inline"
   ]
  },
  {
   "cell_type": "markdown",
   "metadata": {
    "deletable": false,
    "editable": false,
    "nbgrader": {
     "checksum": "c54dd86bb0806b93a6f0a7c979ab701b",
     "grade": false,
     "grade_id": "p0_text",
     "locked": true,
     "schema_version": 1,
     "solution": false
    }
   },
   "source": [
    "In the following problems we will use the dow jones index data"
   ]
  },
  {
   "cell_type": "code",
   "execution_count": 2,
   "metadata": {
    "deletable": false,
    "editable": false,
    "nbgrader": {
     "checksum": "d08f143e65791fc04a5fe785a04d02b4",
     "grade": false,
     "grade_id": "p0_run",
     "locked": true,
     "schema_version": 1,
     "solution": false
    }
   },
   "outputs": [
    {
     "data": {
      "text/html": [
       "<div>\n",
       "<style scoped>\n",
       "    .dataframe tbody tr th:only-of-type {\n",
       "        vertical-align: middle;\n",
       "    }\n",
       "\n",
       "    .dataframe tbody tr th {\n",
       "        vertical-align: top;\n",
       "    }\n",
       "\n",
       "    .dataframe thead th {\n",
       "        text-align: right;\n",
       "    }\n",
       "</style>\n",
       "<table border=\"1\" class=\"dataframe\">\n",
       "  <thead>\n",
       "    <tr style=\"text-align: right;\">\n",
       "      <th></th>\n",
       "      <th>quarter</th>\n",
       "      <th>stock</th>\n",
       "      <th>date</th>\n",
       "      <th>open</th>\n",
       "      <th>high</th>\n",
       "      <th>low</th>\n",
       "      <th>close</th>\n",
       "      <th>volume</th>\n",
       "      <th>percent_change_price</th>\n",
       "      <th>percent_change_volume_over_last_wk</th>\n",
       "      <th>previous_weeks_volume</th>\n",
       "      <th>next_weeks_open</th>\n",
       "      <th>next_weeks_close</th>\n",
       "      <th>percent_change_next_weeks_price</th>\n",
       "      <th>days_to_next_dividend</th>\n",
       "      <th>percent_return_next_dividend</th>\n",
       "    </tr>\n",
       "  </thead>\n",
       "  <tbody>\n",
       "    <tr>\n",
       "      <th>0</th>\n",
       "      <td>1</td>\n",
       "      <td>AA</td>\n",
       "      <td>1/7/2011</td>\n",
       "      <td>15.82</td>\n",
       "      <td>16.72</td>\n",
       "      <td>15.78</td>\n",
       "      <td>16.42</td>\n",
       "      <td>239655616</td>\n",
       "      <td>3.79267</td>\n",
       "      <td>NaN</td>\n",
       "      <td>NaN</td>\n",
       "      <td>16.71</td>\n",
       "      <td>15.97</td>\n",
       "      <td>-4.428490</td>\n",
       "      <td>26</td>\n",
       "      <td>0.182704</td>\n",
       "    </tr>\n",
       "    <tr>\n",
       "      <th>1</th>\n",
       "      <td>1</td>\n",
       "      <td>AA</td>\n",
       "      <td>1/14/2011</td>\n",
       "      <td>16.71</td>\n",
       "      <td>16.71</td>\n",
       "      <td>15.64</td>\n",
       "      <td>15.97</td>\n",
       "      <td>242963398</td>\n",
       "      <td>-4.42849</td>\n",
       "      <td>1.380223</td>\n",
       "      <td>239655616.0</td>\n",
       "      <td>16.19</td>\n",
       "      <td>15.79</td>\n",
       "      <td>-2.470660</td>\n",
       "      <td>19</td>\n",
       "      <td>0.187852</td>\n",
       "    </tr>\n",
       "    <tr>\n",
       "      <th>2</th>\n",
       "      <td>1</td>\n",
       "      <td>AA</td>\n",
       "      <td>1/21/2011</td>\n",
       "      <td>16.19</td>\n",
       "      <td>16.38</td>\n",
       "      <td>15.60</td>\n",
       "      <td>15.79</td>\n",
       "      <td>138428495</td>\n",
       "      <td>-2.47066</td>\n",
       "      <td>-43.024959</td>\n",
       "      <td>242963398.0</td>\n",
       "      <td>15.87</td>\n",
       "      <td>16.13</td>\n",
       "      <td>1.638310</td>\n",
       "      <td>12</td>\n",
       "      <td>0.189994</td>\n",
       "    </tr>\n",
       "    <tr>\n",
       "      <th>3</th>\n",
       "      <td>1</td>\n",
       "      <td>AA</td>\n",
       "      <td>1/28/2011</td>\n",
       "      <td>15.87</td>\n",
       "      <td>16.63</td>\n",
       "      <td>15.82</td>\n",
       "      <td>16.13</td>\n",
       "      <td>151379173</td>\n",
       "      <td>1.63831</td>\n",
       "      <td>9.355500</td>\n",
       "      <td>138428495.0</td>\n",
       "      <td>16.18</td>\n",
       "      <td>17.14</td>\n",
       "      <td>5.933250</td>\n",
       "      <td>5</td>\n",
       "      <td>0.185989</td>\n",
       "    </tr>\n",
       "    <tr>\n",
       "      <th>4</th>\n",
       "      <td>1</td>\n",
       "      <td>AA</td>\n",
       "      <td>2/4/2011</td>\n",
       "      <td>16.18</td>\n",
       "      <td>17.39</td>\n",
       "      <td>16.18</td>\n",
       "      <td>17.14</td>\n",
       "      <td>154387761</td>\n",
       "      <td>5.93325</td>\n",
       "      <td>1.987452</td>\n",
       "      <td>151379173.0</td>\n",
       "      <td>17.33</td>\n",
       "      <td>17.37</td>\n",
       "      <td>0.230814</td>\n",
       "      <td>97</td>\n",
       "      <td>0.175029</td>\n",
       "    </tr>\n",
       "  </tbody>\n",
       "</table>\n",
       "</div>"
      ],
      "text/plain": [
       "   quarter stock       date   open   high    low  close     volume  \\\n",
       "0        1    AA   1/7/2011  15.82  16.72  15.78  16.42  239655616   \n",
       "1        1    AA  1/14/2011  16.71  16.71  15.64  15.97  242963398   \n",
       "2        1    AA  1/21/2011  16.19  16.38  15.60  15.79  138428495   \n",
       "3        1    AA  1/28/2011  15.87  16.63  15.82  16.13  151379173   \n",
       "4        1    AA   2/4/2011  16.18  17.39  16.18  17.14  154387761   \n",
       "\n",
       "   percent_change_price  percent_change_volume_over_last_wk  \\\n",
       "0               3.79267                                 NaN   \n",
       "1              -4.42849                            1.380223   \n",
       "2              -2.47066                          -43.024959   \n",
       "3               1.63831                            9.355500   \n",
       "4               5.93325                            1.987452   \n",
       "\n",
       "   previous_weeks_volume  next_weeks_open  next_weeks_close  \\\n",
       "0                    NaN            16.71             15.97   \n",
       "1            239655616.0            16.19             15.79   \n",
       "2            242963398.0            15.87             16.13   \n",
       "3            138428495.0            16.18             17.14   \n",
       "4            151379173.0            17.33             17.37   \n",
       "\n",
       "   percent_change_next_weeks_price  days_to_next_dividend  \\\n",
       "0                        -4.428490                     26   \n",
       "1                        -2.470660                     19   \n",
       "2                         1.638310                     12   \n",
       "3                         5.933250                      5   \n",
       "4                         0.230814                     97   \n",
       "\n",
       "   percent_return_next_dividend  \n",
       "0                      0.182704  \n",
       "1                      0.187852  \n",
       "2                      0.189994  \n",
       "3                      0.185989  \n",
       "4                      0.175029  "
      ]
     },
     "execution_count": 2,
     "metadata": {},
     "output_type": "execute_result"
    }
   ],
   "source": [
    "df = pd.read_csv('dow_jones_index.data')\n",
    "df.head()"
   ]
  },
  {
   "cell_type": "markdown",
   "metadata": {
    "deletable": false,
    "editable": false,
    "nbgrader": {
     "checksum": "3b42c547aa43598474169047e6d86984",
     "grade": false,
     "grade_id": "p1_text",
     "locked": true,
     "schema_version": 1,
     "solution": false
    }
   },
   "source": [
    "# Problem 1: Creating a Scatter Plot\n",
    "\n",
    "Write a function called `scatter_plot` that takes in a stock name, and two other column names from the dow jones index data and plots a scatter plot of the two columns.\n",
    "\n",
    "For example, the function would be able to take in `'AA'`, `'open'`, and `'close'` as inputs, and it would plot the scatter plot of `'open'` and `'close'` for the `'AA'` stock.\n",
    "\n",
    "Furthermore:\n",
    "\n",
    "1. Give the x-axis the same label as the column name inputted for `x_data`.\n",
    "\n",
    "2. Give the y-axis the same label as the column name inputted for `y_data`."
   ]
  },
  {
   "cell_type": "code",
   "execution_count": 3,
   "metadata": {
    "collapsed": true,
    "deletable": false,
    "nbgrader": {
     "checksum": "a21bbe2700b7ac87a92d01ddb5091fd2",
     "grade": false,
     "grade_id": "p1_answer",
     "locked": false,
     "schema_version": 1,
     "solution": true
    }
   },
   "outputs": [],
   "source": [
    "def scatter_plot(df,stock_name,x_data,y_data):\n",
    "    \"\"\"\n",
    "    Inputs\n",
    "    ------\n",
    "    df: a pandas dataframe, the dataframe containing the relevant data\n",
    "    \n",
    "    stock_name: a string, the name of the stock\n",
    "    \n",
    "    x_data: a string, the name of the first column to be used\n",
    "    \n",
    "    y_data: a string, the name of the second column to be used\n",
    "    \n",
    "    Output\n",
    "    ------\n",
    "    \n",
    "    ax: a matplotlib.axes object\n",
    "    \n",
    "    \"\"\"\n",
    "    \n",
    "    ### YOUR CODE HERE\n",
    "    # Filter the dataframe for the given stock name\n",
    "    stock_data = df[df['stock'] == stock_name]\n",
    "\n",
    "    # Extract the specified columns\n",
    "    x = stock_data[x_data]\n",
    "    y = stock_data[y_data]\n",
    "\n",
    "    # Create the scatter plot\n",
    "    fig, ax = plt.subplots()\n",
    "    ax.scatter(x, y)\n",
    "    ax.set_xlabel(x_data)\n",
    "    ax.set_ylabel(y_data)\n",
    "       \n",
    "    return ax"
   ]
  },
  {
   "cell_type": "code",
   "execution_count": 4,
   "metadata": {
    "deletable": false,
    "editable": false,
    "nbgrader": {
     "checksum": "282c34d1f95fc80a477453c777da15e7",
     "grade": false,
     "grade_id": "p1_run",
     "locked": true,
     "schema_version": 1,
     "solution": false
    }
   },
   "outputs": [
    {
     "data": {
      "image/png": "[encoded data removed]",
      "text/plain": [
       "<Figure size 432x288 with 1 Axes>"
      ]
     },
     "metadata": {},
     "output_type": "display_data"
    }
   ],
   "source": [
    "my_plot = scatter_plot(df, 'AA', 'open', 'close')"
   ]
  },
  {
   "cell_type": "code",
   "execution_count": 5,
   "metadata": {
    "collapsed": true,
    "deletable": false,
    "editable": false,
    "nbgrader": {
     "checksum": "147ee9258d82a9e9c36870a02a9a5634",
     "grade": true,
     "grade_id": "p1_test",
     "locked": true,
     "points": 1,
     "schema_version": 1,
     "solution": false
    }
   },
   "outputs": [],
   "source": [
    "assert_equal(my_plot.get_xlabel(), 'open')\n",
    "assert_equal(my_plot.get_ylabel(), 'close')\n",
    "assert_almost_equal(my_plot.collections[0].get_offsets()[0][0], 15.82)\n",
    "assert_equal(len(my_plot.collections[0].get_offsets()), 25)"
   ]
  },
  {
   "cell_type": "code",
   "execution_count": 6,
   "metadata": {
    "deletable": false,
    "editable": false,
    "nbgrader": {
     "checksum": "f4a7589030778777c877c1f4670c5eb2",
     "grade": false,
     "grade_id": "p2_run_2",
     "locked": true,
     "schema_version": 1,
     "solution": false
    }
   },
   "outputs": [
    {
     "name": "stdout",
     "output_type": "stream",
     "text": [
      "[[1 'AA' '1/7/2011' 15.82 16.72 15.78 16.42 239655616 3.7926699999999998\n",
      "  nan nan 16.71 15.97 -4.42849 26 0.182704]\n",
      " [1 'AA' '1/14/2011' 16.71 16.71 15.64 15.97 242963398 -4.42849 1.380223028\n",
      "  239655616.0 16.19 15.79 -2.4706599999999996 19 0.187852]\n",
      " [1 'AA' '1/21/2011' 16.19 16.38 15.6 15.79 138428495 -2.4706599999999996\n",
      "  -43.02495926 242963398.0 15.87 16.13 1.63831 12 0.189994]\n",
      " [1 'AA' '1/28/2011' 15.87 16.63 15.82 16.13 151379173 1.63831 9.355500109\n",
      "  138428495.0 16.18 17.14 5.93325 5 0.18598900000000002]\n",
      " [1 'AA' '2/4/2011' 16.18 17.39 16.18 17.14 154387761 5.93325 1.987451735\n",
      "  151379173.0 17.33 17.37 0.230814 97 0.175029]]\n"
     ]
    }
   ],
   "source": [
    "df_mat = df.values  # convert pandas to numpy multi dim array\n",
    "print(df_mat[:5])"
   ]
  },
  {
   "cell_type": "markdown",
   "metadata": {
    "deletable": false,
    "editable": false,
    "nbgrader": {
     "checksum": "2b511963c09b352bf930cc20898a494a",
     "grade": false,
     "grade_id": "p4_text",
     "locked": true,
     "schema_version": 1,
     "solution": false
    }
   },
   "source": [
    "# Problem 2: Correlation of Columns\n",
    "\n",
    "In this problem you will finish writing the correlation function. The correlation function has the following parameters: `df_mat` a multidimensional array and `col1` and `col2` integer indices used to index `df_mat`. \n",
    "\n",
    "Your task is do the following:\n",
    "- Get `col1` and `col2` from `df_mat`.\n",
    "- Plot `col1` and `col2` from `df_mat` using the `scatter` function from pyplot.\n",
    "    - Your plot should have a title and labels for the x and y axis.\n",
    "- Compute the Pearson and Spearman correlations of `col1` and `col2`.\n",
    "- Lastly, your function should return:  \n",
    "    - the `axes` object (we have created this for you)\n",
    "    - Pearson correlation\n",
    "    - Spearman correlation   "
   ]
  },
  {
   "cell_type": "code",
   "execution_count": 7,
   "metadata": {
    "collapsed": true,
    "deletable": false,
    "nbgrader": {
     "checksum": "f9978193db3c8d68e9951669ab3e391f",
     "grade": false,
     "grade_id": "p4_answer",
     "locked": false,
     "schema_version": 1,
     "solution": true
    }
   },
   "outputs": [],
   "source": [
    "def correlation(df_mat, col1, col2):\n",
    "    ### YOUR CODE HERE\n",
    "    \n",
    "    # Get col1 and col2 from df_mat\n",
    "    x = df_mat[:, col1]\n",
    "    y = df_mat[:, col2]\n",
    "    \n",
    "    # Plot col1 and col2 using scatter plot\n",
    "    fig, ax = plt.subplots(figsize=(10, 5))\n",
    "    ax.scatter(x, y)\n",
    "    ax.set_xlabel(col1)\n",
    "    ax.set_ylabel(col2)\n",
    "    ax.set_title('Scatter Plot')\n",
    "    \n",
    "     \n",
    "    pearson_corr, spearman_corr = st.pearsonr(x, y), st.spearmanr(x, y)\n",
    "    \n",
    "      \n",
    "    # Return axes object, Pearson correlation, and Spearman correlation\n",
    "    return ax, pearson_corr, spearman_corr\n",
    "    \n",
    "    \n"
   ]
  },
  {
   "cell_type": "code",
   "execution_count": 8,
   "metadata": {
    "deletable": false,
    "editable": false,
    "nbgrader": {
     "checksum": "2c79bfce53219bde7b677391a51b06a9",
     "grade": true,
     "grade_id": "p4_test",
     "locked": true,
     "points": 1,
     "schema_version": 1,
     "solution": false
    }
   },
   "outputs": [
    {
     "name": "stdout",
     "output_type": "stream",
     "text": [
      "Pearson Correlation: -0.5145452542735397\n",
      "Spearman Correlation: -0.7773913236282967\n"
     ]
    },
    {
     "data": {
      "image/png": "[encoded data removed]",
      "text/plain": [
       "<Figure size 720x360 with 1 Axes>"
      ]
     },
     "metadata": {},
     "output_type": "display_data"
    }
   ],
   "source": [
    "from helper import c\n",
    "\n",
    "col1, col2 = 6, 7\n",
    "sol = c(df_mat, col1, col2)\n",
    "\n",
    "ax, pc, sc = correlation(df_mat, col1, col2)\n",
    "data = ax.collections[0].get_offsets()\n",
    "print('Pearson Correlation: {0}'.format(pc[0]))\n",
    "print('Spearman Correlation: {0}'.format(sc[0]))\n",
    "assert_is_instance(ax, mpl.axes.Axes, msg='Return a Axes object.')  \n",
    "assert_is_not(len(ax.title.get_text()), 0, msg=\"Your plot doesn't have a title.\")\n",
    "assert_is_not(ax.xaxis.get_label_text(), '', msg=\"Change the x-axis label to something more descriptive.\")\n",
    "assert_is_not(ax.yaxis.get_label_text(), '', msg=\"Change the y-axis label to something more descriptive.\")\n",
    "\n",
    "assert_equal(np.array_equal(data[:,0], sol[0]), True, msg=\"Data on for the x axis is not correct\")\n",
    "assert_equal(np.array_equal(data[:,1], sol[1]), True, msg=\"Data on for the y axis is not correct\")\n",
    "\n",
    "assert_almost_equal(pc[0], sol[2][0])\n",
    "assert_almost_equal(sc[0], sol[3][0])"
   ]
  },
  {
   "cell_type": "markdown",
   "metadata": {
    "deletable": false,
    "editable": false,
    "nbgrader": {
     "checksum": "6c763fbfe6ea59be759ade85f5f77b59",
     "grade": false,
     "grade_id": "p5_text",
     "locked": true,
     "schema_version": 1,
     "solution": false
    }
   },
   "source": [
    "# Problem 3: Fitting OLS Model to Data\n",
    "\n",
    "Your task is to finish writing the `reg_plot` function. Your task is to fit an OLS model to 2 columns of data. `reg_plot` takes in the following parameters:\n",
    "\n",
    "- a **dataframe** (not numpy multidimensional array), \n",
    "- `x` and `y`, which are strings that specify the name of a column in the DataFrame. \n",
    "\n",
    "Use the `regplot` function from the Seaborn library to fit an ols model to the data. Your plot should contain a label for the x and y axis and also a title."
   ]
  },
  {
   "cell_type": "code",
   "execution_count": 9,
   "metadata": {
    "collapsed": true,
    "deletable": false,
    "nbgrader": {
     "checksum": "d28ca52e4c93a1aacc84122136906350",
     "grade": false,
     "grade_id": "p5_answer",
     "locked": false,
     "schema_version": 1,
     "solution": true
    }
   },
   "outputs": [],
   "source": [
    "def reg_plot(df, x, y):\n",
    "    '''\n",
    "    df dataframe\n",
    "    \n",
    "    x: column name\n",
    "    \n",
    "    y: column name\n",
    "    '''\n",
    "    \n",
    "    ### YOUR CODE HERE\n",
    "    ax = sns.regplot(x=x, y=y, data=df, fit_reg=True)\n",
    "    ax.set_xlabel(x)\n",
    "    ax.set_ylabel(y)\n",
    "    ax.set_title('Scatter Plot w/ Linear Fit')\n",
    "    \n",
    "    return ax"
   ]
  },
  {
   "cell_type": "code",
   "execution_count": 10,
   "metadata": {
    "deletable": false,
    "editable": false,
    "nbgrader": {
     "checksum": "58fd73844d4c24cff5d627b2620996b4",
     "grade": true,
     "grade_id": "p5_test",
     "locked": true,
     "points": 1,
     "schema_version": 1,
     "solution": false
    }
   },
   "outputs": [
    {
     "data": {
      "image/png": "[encoded data removed]",
      "text/plain": [
       "<Figure size 432x288 with 1 Axes>"
      ]
     },
     "metadata": {},
     "output_type": "display_data"
    }
   ],
   "source": [
    "ax = reg_plot(df, x='open', y='close')\n",
    "from helper import rp\n",
    "sol_x, sol_y = rp(df)\n",
    "assert_is_instance(ax, mpl.axes.Axes, msg='Return a Axes object.')  \n",
    "assert_is_not(len(ax.title.get_text()), 0, msg=\"Your plot doesn't have a title.\")\n",
    "assert_is_not(ax.xaxis.get_label_text(), '', msg=\"Change the x-axis label to something more descriptive.\")\n",
    "assert_is_not(ax.yaxis.get_label_text(), '', msg=\"Change the y-axis label to something more descriptive.\")\n",
    "assert_equal(np.array_equal(ax.lines[0].get_ydata(), sol_y), True, msg=\"Data on Y-Axis is incorrect\")\n",
    "assert_equal(np.array_equal(ax.lines[0].get_xdata(), sol_x), True, msg=\"Data on x-axis is incorrect\")\n",
    "sol_x, sol_y = rp(df, 'open', 'close')\n",
    "assert_is_instance(ax, mpl.axes.Axes, msg='Return a Axes object.')  \n",
    "assert_is_not(len(ax.title.get_text()), 0, msg=\"Your plot doesn't have a title.\")\n",
    "assert_is_not(ax.xaxis.get_label_text(), '', msg=\"Change the x-axis label to something more descriptive.\")\n",
    "assert_is_not(ax.yaxis.get_label_text(), '', msg=\"Change the y-axis label to something more descriptive.\")\n",
    "assert_equal(np.array_equal(ax.lines[0].get_ydata(), sol_y), True, msg=\"Data on x axis is incorrect\")\n",
    "assert_equal(np.array_equal(ax.lines[0].get_xdata(), sol_x), True, msg=\"Data on y axis is incorrect\")"
   ]
  },
  {
   "cell_type": "markdown",
   "metadata": {
    "deletable": false,
    "editable": false
   },
   "source": [
    "**&copy; 2017: Robert J. Brunner at the University of Illinois.**\n",
    "\n",
    "This notebook is released under the [Creative Commons license CC BY-NC-SA 4.0][ll]. Any reproduction, adaptation, distribution, dissemination or making available of this notebook for commercial use is not allowed unless authorized in writing by the copyright holder.\n",
    "\n",
    "[ll]: https://creativecommons.org/licenses/by-nc-sa/4.0/legalcode "
   ]
  }
 ],
 "metadata": {
  "anaconda-cloud": {},
  "coursera": {
   "course_slug": "data-analytics-accountancy-1",
   "graded_item_id": "aRrJn",
   "launcher_item_id": "m7_assignment"
  },
  "kernelspec": {
   "display_name": "Python 3",
   "language": "python",
   "name": "python3"
  },
  "language_info": {
   "codemirror_mode": {
    "name": "ipython",
    "version": 3
   },
   "file_extension": ".py",
   "mimetype": "text/x-python",
   "name": "python",
   "nbconvert_exporter": "python",
   "pygments_lexer": "ipython3",
   "version": "3.6.5"
  }
 },
 "nbformat": 4,
 "nbformat_minor": 2
}
