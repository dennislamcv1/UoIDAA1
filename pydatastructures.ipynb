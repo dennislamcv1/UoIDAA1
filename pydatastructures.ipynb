{
 "cells": [
  {
   "cell_type": "markdown",
   "metadata": {},
   "source": [
    "# Python Data Structures\n",
    "\n",
    "-----"
   ]
  },
  {
   "cell_type": "markdown",
   "metadata": {},
   "source": [
    "Previously, we covered the basic Python concepts required to begin writing legal Python code. In this Jupyter notebook, we will introduce additional fundamental concepts that form the basis of many Python programs. These concepts include the built-in Python data structures: string, tuple, list, and dictionary.\n",
    "\n",
    "-----"
   ]
  },
  {
   "cell_type": "markdown",
   "metadata": {},
   "source": [
    "## Python Data Structures\n",
    "\n",
    "Python provides built-in support for a number of useful data structures, including the _string_, _tuple_, _list_, and _dictionary_:\n",
    "\n",
    "__String__: \n",
    "A sequence of zero or more characters that are enclosed within either a pair of single quote characters, `'`, or a pair of double quote characters, `\"`. A Python string is an instance of class `str`.\n",
    "\n",
    "`A string containing many characters`\n",
    "\n",
    "__Tuple__:\n",
    "An ordered sequence of zero or more values that are enclosed in parentheses, `(` and `)`. The different values in a tuple are generally separated by commas, although this is not required. A Python tuple is an instance of class `tuple`.\n",
    "\n",
    "`(1, 2, 3, 4, 5, 6, 7, 8, 9, 10)`\n",
    "\n",
    "__List__:\n",
    "An ordered sequence of zero or more values that are enclosed in square brackets, `[` and `]`. The different values in the list are separated by commas. A Python list is an instance of class `list`.\n",
    "\n",
    "`[1, 2, 3, 4, 5, 6, 7, 8, 9, 10]`\n",
    "\n",
    "__Dictionary__:\n",
    "An unordered collection of key-value pairs that are enclosed in curly braces, `{` and `}`. A key is separated from its corresponding value by a colon `:` and the different key-value entries in the collection are separated by commas. A Python dictionary is an instance of class `dict`.\n",
    "\n",
    "`d = {'name': \"Alexander\", 'age': 30, 'location': (102.1, 32.1)}`\n",
    "\n",
    "----\n",
    "\n",
    "Of these four data structures, the _list_ and the _dictionary_ are mutable, which means the values stored in these structures can be changed. On the other hand,  the _string_ and the _tuple_ are immutable, which means the values cannot be changed once created. Instead, a new data structure must be created, either explicitly by the programmer, or implicitly by the Python interpreter. All of these data structures can be displayed by using the Python built-in `print` function, which converts its arguments to a string, which is then sent to STDOUT (which in this course is generally the space in the notebook immediately following the `print` statement):\n",
    "\n",
    "```python\n",
    "data = [1, 2, 3, 4, 5, 6, 7, 8, 9, 10]\n",
    "print(data)\n",
    "```\n",
    "\n",
    "The _dictionary_ is a special data structure that maps keys to values, and thus the keys, which can be stored in any order, are used to access the values. The other three structures are ordered sequences, and thus individual elements can be accessed by specifying an index position within square brackets, `[]`, with the caveat that Python is a zero-indexed language. Thus, given an ordered sequence `data`, the following accesses are legal:\n",
    "\n",
    "- `a[0]`: access the first value\n",
    "- `a[1]`: access the second value\n",
    "- `a[-1]`: access the last value\n",
    "- `a[-2]`: access the second to last value\n",
    "\n",
    "### Slicing\n",
    "\n",
    "Python supports a rich array of techniques for extracting values from an ordered list beyond the single value access method, known as slicing. Given an ordered sequence `data`, the basic format is `data[start:end:stride]` where start and end are the starting and ending index values, respectively, and stride is the number of values to skip when iterating. If start or end are omitted, the default is the first and last value, while the default stride is one. A negative value can be used for either the start or the end index values, which indicates relative to the end value. These concepts are demonstrated in the following code block:"
   ]
  },
  {
   "cell_type": "code",
   "execution_count": 1,
   "metadata": {},
   "outputs": [
    {
     "name": "stdout",
     "output_type": "stream",
     "text": [
      "1\n",
      "[3, 4, 5, 6, 7, 8]\n",
      "[1, 3, 5, 7]\n"
     ]
    }
   ],
   "source": [
    "# Edit the start/end/stride values to learn slicing\n",
    "\n",
    "data = [1, 2, 3, 4, 5, 6, 7, 8, 9, 10]\n",
    "\n",
    "print(data[0])\n",
    "print(data[2:-2])\n",
    "print(data[:-3:2])"
   ]
  },
  {
   "cell_type": "markdown",
   "metadata": {},
   "source": [
    "-----\n",
    "\n",
    "### Common Sequence Operations\n",
    "\n",
    "In addition to slicing, the _string_, _tuple_, and _list_ support several common sequence operations. Given a value `v`, integer `n`, and similar typed sequences `s` and `t`:\n",
    "\n",
    "| Operation         | Description                              |\n",
    "| ----------------- | ---------------------------------------- |\n",
    "| `v in s`          | `True` if `v` is in the sequence `s`, otherwise `False` |\n",
    "| `v not in s`      | `False` if `v` is in the sequence `s`, otherwise `True` |\n",
    "| `s + t`           | concatenation of `s` and `t`             |\n",
    "| `s * n` or `n* s` | `n` shallow copies of `s` concatenated   |\n",
    "| `len(s)`          | the number of elements in the sequence `s` |\n",
    "| `min(s)`          | the smallest elements in the sequence `s` |\n",
    "| `max(s)`          | the largest of elements in the sequence `s` |\n",
    "| `s.count(v)`      | number of times `v` appears in `s`       |\n",
    "\n",
    "These methods are demonstrated below on the `data` list:"
   ]
  },
  {
   "cell_type": "code",
   "execution_count": 2,
   "metadata": {},
   "outputs": [
    {
     "data": {
      "text/plain": [
       "True"
      ]
     },
     "execution_count": 2,
     "metadata": {},
     "output_type": "execute_result"
    }
   ],
   "source": [
    "1 in data"
   ]
  },
  {
   "cell_type": "code",
   "execution_count": 3,
   "metadata": {},
   "outputs": [
    {
     "data": {
      "text/plain": [
       "True"
      ]
     },
     "execution_count": 3,
     "metadata": {},
     "output_type": "execute_result"
    }
   ],
   "source": [
    "0 not in data"
   ]
  },
  {
   "cell_type": "code",
   "execution_count": 4,
   "metadata": {},
   "outputs": [
    {
     "data": {
      "text/plain": [
       "[1, 2, 3, 4, 5, 6, 7, 8, 9, 10, 1, 2, 3, 4, 5, 6, 7, 8, 9, 10]"
      ]
     },
     "execution_count": 4,
     "metadata": {},
     "output_type": "execute_result"
    }
   ],
   "source": [
    "data * 2"
   ]
  },
  {
   "cell_type": "code",
   "execution_count": 5,
   "metadata": {},
   "outputs": [
    {
     "data": {
      "text/plain": [
       "[1, 2, 3, 4, 5, 6, 7, 8, 9, 10, 11, 12, 13, 14]"
      ]
     },
     "execution_count": 5,
     "metadata": {},
     "output_type": "execute_result"
    }
   ],
   "source": [
    "data + [11, 12, 13, 14]"
   ]
  },
  {
   "cell_type": "code",
   "execution_count": 6,
   "metadata": {},
   "outputs": [
    {
     "name": "stdout",
     "output_type": "stream",
     "text": [
      "10 1 10\n"
     ]
    }
   ],
   "source": [
    "print(len(data), min(data), max(data))"
   ]
  },
  {
   "cell_type": "markdown",
   "metadata": {},
   "source": [
    "-----\n",
    "\n",
    "### [Strings](https://docs.python.org/3.4/library/stdtypes.html#text-sequence-type-str)\n",
    "\n",
    "In Python, a string is a sequence of zero or more characters that are enclosed within either a pair of single quote characters, `'`, or a pair of double quote characters, `\"`. While it might seem confusing to have two such similar representations, it can be quite handy, as this allows strings to be written that include either single quotes or double quote characters by simply using the opposite type to enclose the string itself:\n",
    "\n",
    "```\n",
    "\"A string with a contraction such as don't or a possessive like Python's string.\"\n",
    "'A string with a quote, \"Four score and seven years ago ...\"'\n",
    "```\n",
    "\n",
    "A string can span multiple lines by using either three single or double quote characters to enclose the sequence of characters, just like multi-line comments. Adjacent strings on the same line will be silently combined by the Python interpreter:\n",
    "\n",
    "```python\n",
    "data = 'First Name ''Last Name '\" Email Address\"\n",
    "print(data)\n",
    "\n",
    "First Name Last Name  Email Address\n",
    "```\n",
    "\n",
    "A special string in Python is known as a _raw string_, where backslashes are not handled in a special way when processing the string. This is useful when constructing regular expressions or other strings that might include formatting information, like plot axes that use LaTeX formatting. To create a raw string, simply prefix the string with a lower-case `'r'`:\n",
    "\n",
    "```python\n",
    "data =r'Text with a \\ that is left unprocessed.'\n",
    "```\n",
    "\n",
    "The `str` class defines a large number of functions that can be used to process string data, including testing if the string only contains alphabetical values, numerical values, or alphanumeric values, and functions that can convert a string to all lowercase or uppercase characters. A full description of the string methods is available from the online [Python Documentation](https://docs.python.org/3/library/stdtypes.html#str) or by using `help(str)` at a Python prompt or Jupyter Notebook cell. \n",
    "\n",
    "Some of the more useful Python _string_ functions are detailed below.\n",
    "\n",
    "__`format`__:\n",
    "\n",
    "The format method is used to create a new formatted string from a template string and substitution text. The classic example is a form letter, where specific fields are replaced by new data with every string. The `format` method replaces the previous `%` string formatting operator. In its basic form, the template string includes identified `{}` to indicate replacement string locations, and the format method takes arguments that are used to indicate the replacement text. For example,\n",
    "\n",
    "```python\n",
    "'Hello {}, you are visitor #{}!'.format('Alexander', 23)\n",
    "```\n",
    "\n",
    "will return\n",
    "\n",
    "```\n",
    "'Hello Alexander, you are visitor #23!'\n",
    "```\n",
    "\n",
    "Alternatively, the curly braces can enclose a number that is used to find the matching variable for substitution in the `format` method. For example, the previous example could also be written as `'Hello {0}, you are visitor #{1}!'.format('Alexander', 23)`, or equivalently as `'Hello {1}, you are visitor #{0}!'.format(23, 'Alexander')`.\n",
    "\n",
    "A recent modification to the Python language provides support for [_f-strings_](https://www.python.org/dev/peps/pep-0498/), where a variable name is specified within the curly-braces, allow direct variable replacement. The string formatting codes are still supported, but now follow the variable name, as opposed to the ordinal number. For example, the following code example can be written by using an _f-string_:\n",
    "\n",
    "```python\n",
    "name = 'Alexander'\n",
    "number = 23\n",
    "\n",
    "f'Hello {name}, you are visitor #{number}!'\n",
    "```\n",
    "\n",
    "__`find`__:\n",
    "\n",
    "The `find` method locates the first occurrence of a sub-string in the full string, and returns the index position of this first occurrence. For example, \n",
    "\n",
    "```python\n",
    "\"The brown dog jumped over the quick fox!\".find(\"he\")\n",
    "```\n",
    "\n",
    "returns 1.\n",
    "\n",
    "__`split`__:\n",
    "\n",
    "The `split` method is very powerful, and will tokenize a string into substrings based on the input arguments, which are whitespace characters by default. For example, \n",
    "\n",
    "```python\n",
    "\"The brown dog jumped over the quick fox!\".split()\n",
    "```\n",
    "returns\n",
    "\n",
    "```\n",
    "['The', 'brown', 'dog', 'jumped', 'over', 'the', 'quick', 'fox!']\n",
    "```\n",
    "\n",
    "__`strip`__:\n",
    "\n",
    "The `strip` method is used to remove characters specified as input arguments to the method from the beginning and end of a string. By default, whitespace characters are removed. Two variants of this function: `lstrip` and `rstrip` remove leading or trailing characters, respectively.\n",
    "\n",
    "```python\n",
    "\"    Some text surrounded by white space characters    \".strip()\n",
    "```\n",
    "returns\n",
    "\n",
    "```\n",
    "'Some text surrounded by white space characters'\n",
    "```\n",
    "\n",
    "__`join`__:\n",
    "\n",
    "While strings can be combined by using the `+` operator, this approach is slow for many additions since each addition requires the construction of a new string to hold the combined result. A more efficient string combination approach is to use the `join` method, which can quickly combine multiple strings that are contained in an iterable object such as a `list` or `tuple` together. The string you use to call the join method provides the _glue text_ between each item in the iterable. For example, the following method will create a new string from a list of strings that are each separated by a comma and a single space character:\n",
    "\n",
    "```python\n",
    "\n",
    "data = ['1', '2', '3', '4', '5', '6', '7', '8', '9']\n",
    "\n",
    "\", \".join(data)\n",
    "```\n",
    "returns \n",
    "\n",
    "`'1, 2, 3, 4, 5, 6, 7, 8, 9'`\n",
    "\n",
    "The following code block demonstrates several string operations that you can test, change, and execute.\n",
    "\n",
    "----"
   ]
  },
  {
   "cell_type": "code",
   "execution_count": 7,
   "metadata": {},
   "outputs": [
    {
     "name": "stdout",
     "output_type": "stream",
     "text": [
      "The brown dog jumped over the quick fox!\n"
     ]
    }
   ],
   "source": [
    "text = ['The', 'brown', 'dog', 'jumped', 'over', 'the', 'quick', 'fox!']\n",
    "\n",
    "newtext = \" \".join(text)\n",
    "\n",
    "print(newtext)"
   ]
  },
  {
   "cell_type": "markdown",
   "metadata": {},
   "source": [
    "-----\n",
    "\n",
    "<font color='red' size = '5'> Student Exercise </font>\n",
    "\n",
    "In the empty **Code** cell below, first create a new string called 'mystring' that contains at least 12 characters (e.g., `mystring = 'This is a demo string.'`). Next, write two separate `print` functions that display the third through sixth characters and the last character from the `mystring` string.\n",
    "\n",
    "-----"
   ]
  },
  {
   "cell_type": "code",
   "execution_count": null,
   "metadata": {
    "collapsed": true
   },
   "outputs": [],
   "source": []
  },
  {
   "cell_type": "markdown",
   "metadata": {},
   "source": [
    "-----\n",
    "\n",
    "Another useful built-in function is the `input` function that can be used to obtain information from the user. The `input` method has a string argument that is displayed on _STDOUT_ and reads characters from _STDIN_ until a newline character is encountered. This is demonstrated in the following Code cell, where _STDIN_ reads from the keyboard and _STDOUT_ writes the notebook immediately following the respective Code cell.\n",
    "\n",
    "-----"
   ]
  },
  {
   "cell_type": "code",
   "execution_count": 8,
   "metadata": {},
   "outputs": [
    {
     "name": "stdout",
     "output_type": "stream",
     "text": [
      "Enter your Name: Alexander\n",
      "Welcome Alexander\n"
     ]
    }
   ],
   "source": [
    "name = input(\"Enter your Name: \")\n",
    "\n",
    "print(\"Welcome {0}\".format(name))"
   ]
  },
  {
   "cell_type": "markdown",
   "metadata": {},
   "source": [
    "-----\n",
    "\n",
    "### [List](https://docs.python.org/3/tutorial/datastructures.html#more-on-lists)\n",
    "\n",
    "A mutable sequence that can hold homogeneous data, `[1, 2, 3, 4, 5]` or heterogeneous data, `[1, '2', 'Three', (4, 5)]`. A list can be created in several different ways:\n",
    "\n",
    "1. `[]`: An empty list\n",
    "2. `[1]`: A single valued list\n",
    "3. `[1, 2, 3]`: Comma-separated items\n",
    "4. `list()`: using the list class constructor\n",
    "\n",
    "Since a `list` is mutable, a list can be changed by adding elements, removing elements, or simply changing existing elements in place. Lists are very powerful data structures and are used extensively in many Python programs. The following table presents some of the more commonly used list functions:\n",
    "\n",
    "| Function | Description                              | Example             |\n",
    "| -------- | ---------------------------------------- | ------------------- |\n",
    "| append   | add an element to the end of the list    | data.append(11)     |\n",
    "| insert   | insert an element at the specified index | data.insert(4, '4') |\n",
    "| del      | delete the value at the specified index  | del data[4]         |\n",
    "| remove   | remove the  element containing the value | data.remove(11)     |\n",
    "| clear    | remove all elements in the list          | data.clear()        |\n",
    "| sort     | sorts list in place                      | data.sort()         |\n",
    "| reverse  | reverses list in place                   | data.reverse()      |\n",
    "\n",
    "By default, assigning a list to a new variable results in a shallow copy, which means that both variables point to the same underlying list and any changes to one results in changes to the other. For example, after this set of operations:\n",
    "\n",
    "```python\n",
    "data = [1, 2, 3, 4, 5, 6, 7, 8, 9, 10]\n",
    "d = data\n",
    "d[0] = -1\n",
    "```\n",
    "\n",
    "`data[0]` now contains the value `-1`. To obtain a deep copy, use the slice notation without any values. For example, after this set of operations:\n",
    "\n",
    "```python\n",
    "data = [1, 2, 3, 4, 5, 6, 7, 8, 9, 10]\n",
    "d = data[:]\n",
    "d[0] = -1\n",
    "```\n",
    "\n",
    "`data[0]` retains the original value of `1`.\n",
    "\n",
    "-----"
   ]
  },
  {
   "cell_type": "code",
   "execution_count": 9,
   "metadata": {},
   "outputs": [
    {
     "name": "stdout",
     "output_type": "stream",
     "text": [
      "[1, 2, 3, 4, 5, 6, 7, 8, 9, 10]\n",
      "[10, 9, 8, 7, 6, 5, 4, 3, 2, 1]\n"
     ]
    }
   ],
   "source": [
    "data = [1, 2, 3, 4, 5, 6, 7, 8, 9, 10]\n",
    "\n",
    "print(data)\n",
    "\n",
    "data.reverse()\n",
    "print(data)"
   ]
  },
  {
   "cell_type": "code",
   "execution_count": 10,
   "metadata": {},
   "outputs": [
    {
     "name": "stdout",
     "output_type": "stream",
     "text": [
      "[10, 9, 8, 7, 6, 5, 4, 3, 2, 1]\n",
      "[10, -1, 8, 7, 6, 5, 4, 3, 2, 1]\n"
     ]
    }
   ],
   "source": [
    "# Now we compare shallow and deep copies\n",
    "\n",
    "# First a deep copy\n",
    "d = data[:]\n",
    "d[1] = -1\n",
    "\n",
    "print(data)\n",
    "\n",
    "# Now a shallow copy\n",
    "d = data\n",
    "d[1] = -1\n",
    "\n",
    "print(data)"
   ]
  },
  {
   "cell_type": "markdown",
   "metadata": {},
   "source": [
    "-----\n",
    "\n",
    "<font color='red' size = '5'> Student Exercise </font>\n",
    "\n",
    "In the empty **Code** cell below, first create a new list called 'mylist' that holds at least 10 values. Next, write three separate `print` functions that display the third element, sixth element, and the last element from the `mylist` list.\n",
    "\n",
    "-----"
   ]
  },
  {
   "cell_type": "code",
   "execution_count": null,
   "metadata": {
    "collapsed": true
   },
   "outputs": [],
   "source": []
  },
  {
   "cell_type": "markdown",
   "metadata": {},
   "source": [
    "-----\n",
    "\n",
    "### [Dictionary](https://docs.python.org/3/tutorial/datastructures.html#dictionaries)\n",
    "\n",
    "A dictionary is an unordered sequence that can hold values that are referenced by corresponding keys. These key-value pairs are separated by commas, while the value is separated from its key by a colon ':' character. A dictionary can be created in several different ways:\n",
    "\n",
    "1. `{}`: An empty dictionary\n",
    "2. `{'1': 1}`: A single key-value dictionary\n",
    "3. `{'1': 1, '2': \"two\", '3': (1, 2, 3)}`: Comma-separated key-value pairs\n",
    "4. `dict()`: using the dict class constructor\n",
    "\n",
    "Since a `dictionary` is mutable, a dictionary can be changed by adding key-value pairs, by removing key-value pairs, or by simply changing existing values in place. Dictionaries can be very useful data structures, and Python provides a number of useful functions to work with dictionaries as listed in the following table:\n",
    "\n",
    "| Operation    | Description                              |\n",
    "| ------------ | ---------------------------------------- |\n",
    "| `v in d`     | `True` if `v` is in the dictionary `d`, otherwise `False` |\n",
    "| `v not in d` | `False` if `v` is in the sequence `d`, otherwise `True` |\n",
    "| `del d[k]`   | Deletes the key value pair identified by the key `k` |\n",
    "| `d.keys()`   | Returns the keys from the dictionary `d` |\n",
    "| `d.values()` | Returns the values from the dictionary `d` |\n",
    "| `d.items()`  | Returns the key-value pairs from the dictionary `d` |\n",
    "| `d.clear()`  | Removes all entries from the dictionary `d` |\n",
    "| `d.copy()`   | Returns a shallow copy of the dictionary `d` |\n",
    "| `len(d)`     | Returns the number of entries in the dictionary `d` |\n",
    "\n",
    "The following code block presents a simple dictionary, along with several operations that demonstrate these functions.\n",
    "\n",
    "-----"
   ]
  },
  {
   "cell_type": "code",
   "execution_count": 11,
   "metadata": {},
   "outputs": [
    {
     "name": "stdout",
     "output_type": "stream",
     "text": [
      "{'1': 1, '2': 'two', '3': (1, 2, 3)}\n",
      "3\n",
      "True\n",
      "True\n",
      "{'1': 1, '2': 'two', '3': (1, 2, 3)}\n"
     ]
    }
   ],
   "source": [
    "d = {'1': 1, '2': \"two\", '3': (1, 2, 3)}\n",
    "\n",
    "print(d)\n",
    "print(len(d))\n",
    "\n",
    "print('1' in d)\n",
    "print('4' not in d)\n",
    "\n",
    "a = d.copy()\n",
    "\n",
    "del a['1']\n",
    "\n",
    "print(d)"
   ]
  },
  {
   "cell_type": "markdown",
   "metadata": {},
   "source": [
    "-----\n",
    "\n",
    "<font color='red' size = '5'> Student Exercise </font>\n",
    "\n",
    "In the empty **Code** cell below, first create a new dictionary called 'mydict' that contains at least five key-value pairs (e.g., `mydict = {'one' : 1, 'two' : 2, 'three' : 3, 'four' : 4, 'five' : 5}`). Next, write two separate `print` functions that display the value of the second key (e.g., `two`) and the last key (e.g., `five`) from the `mydict` dictionary.\n",
    "\n",
    "-----"
   ]
  },
  {
   "cell_type": "code",
   "execution_count": null,
   "metadata": {
    "collapsed": true
   },
   "outputs": [],
   "source": []
  },
  {
   "cell_type": "markdown",
   "metadata": {},
   "source": [
    "-----\n",
    "\n",
    "### [Tuple](https://docs.python.org/3/tutorial/datastructures.html#tuples-and-sequences)\n",
    "\n",
    "A tuple is an immutable sequence that can hold homogeneous data, `(1, 2, 3, 4, 5)` or heterogeneous data, `(1, '2', 'Three', (4, 5))`. A tuple can be created in several different ways:\n",
    "\n",
    "1. `()`: An empty tuple\n",
    "2. `1,` or `(1, )`: A single valued tuple\n",
    "3. `1, 2, 3` or `(1, 2, 3)`: Comma-separated items\n",
    "4. `tuple()`: using the tuple class constructor\n",
    "\n",
    "Note the requirement for the trailing comma to create a single-valued tuple; otherwise the Python interpreter interprets the expression as a value enclosed in parentheses; for example `(1)` is an integer. Any change to a `tuple` requires the creation of a new `tuple`.\n",
    "\n",
    "Tuples are commonly used to pass information to and from functions, and allow for the assignment of multiple data values simultaneously via _unpacking_:\n",
    "\n",
    "-----"
   ]
  },
  {
   "cell_type": "code",
   "execution_count": 12,
   "metadata": {},
   "outputs": [
    {
     "name": "stdout",
     "output_type": "stream",
     "text": [
      "point = (12, 32, 9)\n",
      "x = 12, y = 32, z = 9\n"
     ]
    }
   ],
   "source": [
    "# First we create a three element tuple, and then display the tuple\n",
    "point = (12, 32, 9)\n",
    "print('point = {0}'.format(point))\n",
    "\n",
    "x, y, z = point\n",
    "\n",
    "# Below we use a new, format string to display the point values\n",
    "\n",
    "print(f'x = {x}, y = {y}, z = {z}')"
   ]
  },
  {
   "cell_type": "markdown",
   "metadata": {},
   "source": [
    "In the previous Code cell we first print out the tuple by using a [format string](https://docs.python.org/3.6/library/string.html#format-string-syntax), which is a powerful technique for creating dynamic strings, which is often a convenient method for displaying dynamic data. The second `print` functions uses the new [Python _format_ string](https://www.python.org/dev/peps/pep-0498/), where we can directly embed the value of a specific variable within the string by (1) preceding the string with an 'f' character, and (2) enclosing the variable to be inserted into the string in curly braces `{ }`.\n",
    "\n",
    "-----\n",
    "\n",
    "### Other Data Structures\n",
    "\n",
    "Python now supports a number of other data structures, including the [`range`](https://docs.python.org/3/library/stdtypes.html#range), [`set`](https://docs.python.org/3/library/stdtypes.html#set), [`frozenset`](https://docs.python.org/3/library/stdtypes.html#frozenset), and the [`collections`](https://docs.python.org/3/library/collections.html#) module container data types. Of these, the `range` type is frequently used in `for` loops, described later, to simplify iteration through a sequence data structure. The other data structures are beyond the scope of this lesson.\n",
    "\n",
    "-----"
   ]
  },
  {
   "cell_type": "markdown",
   "metadata": {},
   "source": [
    "## Ancillary Information\n",
    "\n",
    "The following links are to additional documentation that you might find helpful in learning this material. Reading these web-accessible documents is completely optional.\n",
    "\n",
    "1. The official Python documentation for [strings][1a], [lists][1b], [dictionaries][1c], and [tuples][1d].\n",
    "2. The book [_A Byte of Python_](https://python.swaroopch.com/data_structures.html) introduces these data structures.\n",
    "3. A discussion on the [_native_ data types][2] mentioned in this notebook from the book, _Dive into Python_.\n",
    "4. The book [_Think Python_][3] includes a discussion on these data structures.\n",
    "\n",
    "-----\n",
    "\n",
    "[1a]: https://docs.python.org/3/tutorial/introduction.html#strings\n",
    "[1b]: https://docs.python.org/3/tutorial/introduction.html#lists\n",
    "[1c]: https://docs.python.org/3/tutorial/datastructures.html#dictionaries\n",
    "[1d]: https://docs.python.org/3/tutorial/datastructures.html#tuples-and-sequences\n",
    "[2]: http://www.diveintopython.net/native_data_types/index.html\n",
    "[3]: http://greenteapress.com/thinkpython2/html/index.html"
   ]
  },
  {
   "cell_type": "markdown",
   "metadata": {
    "deletable": false,
    "editable": false
   },
   "source": [
    "**&copy; 2017: Robert J. Brunner at the University of Illinois.**\n",
    "\n",
    "This notebook is released under the [Creative Commons license CC BY-NC-SA 4.0][ll]. Any reproduction, adaptation, distribution, dissemination or making available of this notebook for commercial use is not allowed unless authorized in writing by the copyright holder.\n",
    "\n",
    "[ll]: https://creativecommons.org/licenses/by-nc-sa/4.0/legalcode"
   ]
  }
 ],
 "metadata": {
  "kernelspec": {
   "display_name": "Python 3",
   "language": "python",
   "name": "python3"
  },
  "language_info": {
   "codemirror_mode": {
    "name": "ipython",
    "version": 3
   },
   "file_extension": ".py",
   "mimetype": "text/x-python",
   "name": "python",
   "nbconvert_exporter": "python",
   "pygments_lexer": "ipython3",
   "version": "3.6.5"
  }
 },
 "nbformat": 4,
 "nbformat_minor": 1
}
