{
 "cells": [
  {
   "cell_type": "markdown",
   "metadata": {},
   "source": [
    "# Advanced NumPy\n",
    "\n",
    "-----"
   ]
  },
  {
   "cell_type": "markdown",
   "metadata": {},
   "source": [
    "As described in detail in a previous lesson, NumPy is built around a new, n-dimensional array (`ndarray`) data structure that provides fast support for numerical computations. In this notebook, we introduce multi-dimensional NumPy arrays, and focus on extending concepts introduced to deal with one-dimensional arrays to higher dimensional arrays. Note that for simplicity we will rarely discuss anything other than two- or three-dimensional arrays. \n",
    "\n",
    "## Creating Multi-Dimensional Arrays\n",
    "\n",
    "Higher dimensional arrays can be created in same way that a one-dimensional array is created (including all of the previously listed convenience functions, where a one-dimensional array with the correct number of elements is created, and subsequently reshaped into the correct dimensionality. For example, you can create a NumPy array with one hundred elements and reshape this new array into a ten by ten matrix.\n",
    "\n",
    "-----"
   ]
  },
  {
   "cell_type": "code",
   "execution_count": 1,
   "metadata": {},
   "outputs": [
    {
     "name": "stdout",
     "output_type": "stream",
     "text": [
      "[ 0  1  2  3  4  5  6  7  8  9 10 11 12 13 14 15 16 17 18 19 20 21 22 23 24\n",
      " 25 26 27 28 29 30 31 32 33 34 35 36 37 38 39 40 41 42 43 44 45 46 47 48 49\n",
      " 50 51 52 53 54 55 56 57 58 59 60 61 62 63 64 65 66 67 68 69 70 71 72 73 74\n",
      " 75 76 77 78 79 80 81 82 83 84 85 86 87 88 89 90 91 92 93 94 95 96 97 98 99]\n",
      "\n",
      "[[ 0  1  2  3  4  5  6  7  8  9]\n",
      " [10 11 12 13 14 15 16 17 18 19]\n",
      " [20 21 22 23 24 25 26 27 28 29]\n",
      " [30 31 32 33 34 35 36 37 38 39]\n",
      " [40 41 42 43 44 45 46 47 48 49]\n",
      " [50 51 52 53 54 55 56 57 58 59]\n",
      " [60 61 62 63 64 65 66 67 68 69]\n",
      " [70 71 72 73 74 75 76 77 78 79]\n",
      " [80 81 82 83 84 85 86 87 88 89]\n",
      " [90 91 92 93 94 95 96 97 98 99]]\n"
     ]
    }
   ],
   "source": [
    "import numpy as np\n",
    "\n",
    "# Make a one hundred element one-dimensional array\n",
    "data = np.arange(100)\n",
    "print(data)\n",
    "print()\n",
    "\n",
    "# Reshape to a 10 x 10 array\n",
    "mat = data.reshape(10, 10)\n",
    "print(mat)"
   ]
  },
  {
   "cell_type": "markdown",
   "metadata": {},
   "source": [
    "-----\n",
    "\n",
    "Special convenience functions also exist to create special multidimensional arrays. For example, you can create an identity matrix, where the diagonal elements are all one and all other elements are zero by using the `eye` method (since the Identity matrix is often denoted by the capital letter 'I'). You can also specify the diagonal (or certain off-diagonal) elements by using the `diag` function, where the input array is assigned to a set of diagonal elements in the new array. If the `k` parameter to the `np.diag`  method is zero, the diagonal elements will be initialized. If the `k` parameter is a positive (negative) integer, the diagonal corresponding to the integer value of `k` is initialized. The size of the resulting array will be the minimum possible size to allow the input array to be properly initialized.\n",
    "\n",
    "-----"
   ]
  },
  {
   "cell_type": "code",
   "execution_count": 2,
   "metadata": {},
   "outputs": [
    {
     "name": "stdout",
     "output_type": "stream",
     "text": [
      "Matrix will be 4 x 4.\n",
      " [[ 1.  0.  0.  0.]\n",
      " [ 0.  1.  0.  0.]\n",
      " [ 0.  0.  1.  0.]\n",
      " [ 0.  0.  0.  1.]]\n",
      "\n",
      "Matrix will be 4 x 4.\n",
      " [[0 0 0 0]\n",
      " [0 1 0 0]\n",
      " [0 0 2 0]\n",
      " [0 0 0 3]]\n",
      "\n",
      "Matrix will be 5 x 5.\n",
      " [[0 0 0 0 0]\n",
      " [0 0 1 0 0]\n",
      " [0 0 0 2 0]\n",
      " [0 0 0 0 3]\n",
      " [0 0 0 0 0]]\n",
      "\n",
      "Matrix will be 5 x 5.\n",
      " [[0 0 0 0 0]\n",
      " [0 0 0 0 0]\n",
      " [0 1 0 0 0]\n",
      " [0 0 2 0 0]\n",
      " [0 0 0 3 0]]\n"
     ]
    }
   ],
   "source": [
    "# Create special two-dimensional arrays\n",
    "\n",
    "print(\"Matrix will be 4 x 4.\\n\", np.eye(4))\n",
    "print(\"\\nMatrix will be 4 x 4.\\n\", np.diag(np.arange(4), 0))\n",
    "print(\"\\nMatrix will be 5 x 5.\\n\", np.diag(np.arange(4), 1))\n",
    "print(\"\\nMatrix will be 5 x 5.\\n\", np.diag(np.arange(4), -1))"
   ]
  },
  {
   "cell_type": "markdown",
   "metadata": {},
   "source": [
    "-----\n",
    "\n",
    "## Slicing Multidimensional Arrays\n",
    "\n",
    "Multi-dimensional arrays can be sliced (or indexed); the only trick is to remember the proper ordering for the elements. Each dimension is differentiated by a comma in the slicing operation, so a two-dimensional array is sliced with `[start1:end1, start2:end2]`, while a three-dimensional array is sliced with `[start1:end1, start2:end2. start3:end3]`, continuing on with higher dimensions. If only one dimension is specified, it will default to the first dimension. These concepts are demonstrated in the following two code cells, first for a two-dimensional array, followed by a three-dimensional array.\n",
    "\n",
    "Note that each of these slicing operations (i.e., `start:end`) can also include an optional `stride` value as well.\n",
    "\n",
    "-----"
   ]
  },
  {
   "cell_type": "code",
   "execution_count": 3,
   "metadata": {},
   "outputs": [
    {
     "name": "stdout",
     "output_type": "stream",
     "text": [
      "3 x 3 array = \n",
      " [[0 1 2]\n",
      " [3 4 5]\n",
      " [6 7 8]]\n",
      "\n",
      "Slice in first dimension (row 1):  [0 1 2]\n",
      "\n",
      "Slice in first dimension (row 3):  [6 7 8]\n",
      "\n",
      "Slice in second dimension (col 1):  [0 3 6]\n",
      "\n",
      "Slice in second dimension (col 3):  [2 5 8]\n",
      "\n",
      "Slice in first and second dimension:  [[1]]\n",
      "\n",
      "Direct Element access:  1\n"
     ]
    }
   ],
   "source": [
    "# Two-dimensional slicing\n",
    "b = np.arange(9).reshape((3,3))\n",
    "\n",
    "print(\"3 x 3 array = \\n\", b)\n",
    "\n",
    "print(\"\\nSlice in first dimension (row 1): \", b[0])\n",
    "print(\"\\nSlice in first dimension (row 3): \", b[2])\n",
    "\n",
    "print(\"\\nSlice in second dimension (col 1): \", b[:,0])\n",
    "print(\"\\nSlice in second dimension (col 3): \", b[:,2])\n",
    "\n",
    "print(\"\\nSlice in first and second dimension: \", b[0:1, 1:2])\n",
    "\n",
    "\n",
    "print(\"\\nDirect Element access: \", b[0,1])"
   ]
  },
  {
   "cell_type": "code",
   "execution_count": 4,
   "metadata": {},
   "outputs": [
    {
     "name": "stdout",
     "output_type": "stream",
     "text": [
      "3 x 3 x 3 array = \n",
      " [[[ 0  1  2]\n",
      "  [ 3  4  5]\n",
      "  [ 6  7  8]]\n",
      "\n",
      " [[ 9 10 11]\n",
      "  [12 13 14]\n",
      "  [15 16 17]]\n",
      "\n",
      " [[18 19 20]\n",
      "  [21 22 23]\n",
      "  [24 25 26]]]\n",
      "\n",
      "Slice in first dimension (first x axis slice):\n",
      " [[0 1 2]\n",
      " [3 4 5]\n",
      " [6 7 8]]\n",
      "\n",
      "Slice in first and second dimension:  [3 4 5]\n",
      "\n",
      "Slice in first dimension (third x axis slice):\n",
      " [[18 19 20]\n",
      " [21 22 23]\n",
      " [24 25 26]]\n",
      "\n",
      "Slice in second dimension (first y axis slice):\n",
      " [[ 0  1  2]\n",
      " [ 9 10 11]\n",
      " [18 19 20]]\n",
      "\n",
      "Slice in second dimension (third y axis slice):\n",
      " [[ 6  7  8]\n",
      " [15 16 17]\n",
      " [24 25 26]]\n",
      "\n",
      "Slice in first and second dimension:  [[[3 4 5]]]\n",
      "\n",
      "Slice in first and second dimension:\n",
      " [3 4 5]\n",
      "\n",
      "Slice in first and third dimension:  [1 4 7]\n",
      "\n",
      "Slice in first, second, and third dimension:  [[[5]]]\n",
      "\n",
      "Direct element access:  5\n"
     ]
    }
   ],
   "source": [
    "# Three-dimensional slicing\n",
    "c = np.arange(27).reshape((3,3, 3))\n",
    "\n",
    "print(\"3 x 3 x 3 array = \\n\", c)\n",
    "print(\"\\nSlice in first dimension (first x axis slice):\\n\", c[0])\n",
    "\n",
    "print(\"\\nSlice in first and second dimension: \", c[0, 1])\n",
    "\n",
    "print(\"\\nSlice in first dimension (third x axis slice):\\n\", c[2])\n",
    "\n",
    "print(\"\\nSlice in second dimension (first y axis slice):\\n\", c[:,0])\n",
    "print(\"\\nSlice in second dimension (third y axis slice):\\n\", c[:,2])\n",
    "\n",
    "print(\"\\nSlice in first and second dimension: \", c[0:1, 1:2])\n",
    "\n",
    "print(\"\\nSlice in first and second dimension:\\n\", c[0,1])\n",
    "print(\"\\nSlice in first and third dimension: \", c[0,:,1])\n",
    "print(\"\\nSlice in first, second, and third dimension: \", c[0:1,1:2,2:])\n",
    "\n",
    "print(\"\\nDirect element access: \", c[0,1, 2])"
   ]
  },
  {
   "cell_type": "markdown",
   "metadata": {},
   "source": [
    "-----\n",
    "\n",
    "<font color='red' size = '5'> Student Exercise </font>\n",
    "\n",
    "In the empty **Code** cell below, write and execute code to make a four by four matrix that contains the integers 0 through 15. Slice and display the third row, the third column, and the element at the position (4, 4).\n",
    "\n",
    "-----"
   ]
  },
  {
   "cell_type": "code",
   "execution_count": null,
   "metadata": {
    "collapsed": true
   },
   "outputs": [],
   "source": []
  },
  {
   "cell_type": "markdown",
   "metadata": {},
   "source": [
    "-----\n",
    "\n",
    "## Special Indexing\n",
    "\n",
    "NumPy also provides several other _special_ indexing techniques. The first such technique is the use of an [index array][1], where you use an array to specify the elements to be selected. The second technique is a [Boolean mask array][2]. In this case, the Boolean array is the same size as the primary NumPy array, and if the element in the mask array is `True`, the corresponding element in the primary array is selected, and vice-versa for a `False` mask array element. These two special indexing techniques are demonstrated in the following two code cells.\n",
    "\n",
    "-----\n",
    "[1]: http://docs.scipy.org/doc/numpy/user/basics.indexing.html#index-arrays\n",
    "[2]: http://docs.scipy.org/doc/numpy/user/basics.indexing.html#boolean-or-mask-index-arrays"
   ]
  },
  {
   "cell_type": "code",
   "execution_count": 5,
   "metadata": {},
   "outputs": [
    {
     "name": "stdout",
     "output_type": "stream",
     "text": [
      "\n",
      "Starting array:\n",
      " [[0 1 2 3 4]\n",
      " [5 6 7 8 9]]\n",
      "\n",
      "Index Array access: \n",
      " [3 9]\n"
     ]
    }
   ],
   "source": [
    "# Demonstration of a multi-dimensional index array\n",
    "\n",
    "# Two-dimensional array\n",
    "c = np.arange(10).reshape((2, 5))\n",
    "\n",
    "print(\"\\nStarting array:\\n\", c)\n",
    "print(\"\\nIndex Array access: \\n\", c[np.array([0, 1]) , np.array([3, 4])])"
   ]
  },
  {
   "cell_type": "code",
   "execution_count": 6,
   "metadata": {},
   "outputs": [
    {
     "name": "stdout",
     "output_type": "stream",
     "text": [
      "\n",
      "--------------------\n",
      "\n",
      " Starting Array: \n",
      " [[ 0  1  2  3  4]\n",
      " [ 5  6  7  8  9]\n",
      " [10 11 12 13 14]\n",
      " [15 16 17 18 19]\n",
      " [20 21 22 23 24]]\n",
      "\n",
      "Mask 1:\n",
      " [[False False False False False]\n",
      " [ True  True  True  True  True]\n",
      " [ True  True  True  True  True]\n",
      " [ True  True  True  True  True]\n",
      " [ True  True  True  True  True]]\n",
      "\n",
      "Mask 2:\n",
      " [[ True False  True False  True]\n",
      " [False  True False  True False]\n",
      " [ True False  True False  True]\n",
      " [False  True False  True False]\n",
      " [ True False  True False  True]]\n",
      "\n",
      "Mask :\n",
      " [[False False False False False]\n",
      " [False  True False  True False]\n",
      " [ True False  True False  True]\n",
      " [False  True False  True False]\n",
      " [ True False  True False  True]]\n",
      "\n",
      "Masked Array :\n",
      " [ 6  8 10 12 14 16 18 20 22 24]\n",
      "\n",
      "New Array :\n",
      " [[  0   1   2   3   4]\n",
      " [  5 -12   7 -16   9]\n",
      " [-20  11 -24  13 -28]\n",
      " [ 15 -32  17 -36  19]\n",
      " [-40  21 -44  23 -48]]\n"
     ]
    }
   ],
   "source": [
    "# Demonstrate Boolean mask access\n",
    "\n",
    "# Two-dimensional example.\n",
    "\n",
    "print(\"\\n--------------------\")\n",
    "c = np.arange(25).reshape((5, 5))\n",
    "print(\"\\n Starting Array: \\n\", c)\n",
    "\n",
    "# Build a mask that is True for all even elements with value greater than four\n",
    "mask1 = (c > 4)\n",
    "mask2 = (c % 2 == 0)\n",
    "\n",
    "print(\"\\nMask 1:\\n\", mask1)\n",
    "print(\"\\nMask 2:\\n\", mask2)\n",
    "\n",
    "# We use the logical_and ufunc here, but it is described later\n",
    "mask = np.logical_and(mask1, mask2)\n",
    "\n",
    "print(\"\\nMask :\\n\", mask)\n",
    "\n",
    "print(\"\\nMasked Array :\\n\", c[mask])\n",
    "\n",
    "c[mask] *= -2\n",
    "\n",
    "print(\"\\nNew Array :\\n\", c)"
   ]
  },
  {
   "cell_type": "markdown",
   "metadata": {},
   "source": [
    "-----\n",
    "\n",
    "## Basic Operations\n",
    "\n",
    "NumPy arrays naturally support basic mathematical operations, including addition, subtraction, multiplication, division, integer division, and remainder, allowing you to easily combine a scalar (a single number) with a vector (a one-dimensional array), or a matrix (a multi-dimensional array). In the next Code cell, we create a two-dimensional array and use that array to demonstrate how to operate on a scalar and a matrix.\n",
    "\n",
    "-----"
   ]
  },
  {
   "cell_type": "code",
   "execution_count": 7,
   "metadata": {},
   "outputs": [
    {
     "name": "stdout",
     "output_type": "stream",
     "text": [
      "Matrix = \n",
      " [[0 1 2]\n",
      " [3 4 5]\n",
      " [6 7 8]]\n",
      "\n",
      "Matrix + 10.5 =\n",
      " [[ 10.5  11.5  12.5]\n",
      " [ 13.5  14.5  15.5]\n",
      " [ 16.5  17.5  18.5]]\n",
      "\n",
      "Matrix * 0.25 =\n",
      " [[ 0.    0.25  0.5 ]\n",
      " [ 0.75  1.    1.25]\n",
      " [ 1.5   1.75  2.  ]]\n",
      "\n",
      "Matrix % 2 =\n",
      " [[0 1 0]\n",
      " [1 0 1]\n",
      " [0 1 0]]\n",
      "\n",
      "Matrix / 3.0 =\n",
      " [[-1.33333333 -1.         -0.66666667]\n",
      " [-0.33333333  0.          0.33333333]\n",
      " [ 0.66666667  1.          1.33333333]]\n"
     ]
    }
   ],
   "source": [
    "# Create a two-dimensional array\n",
    "\n",
    "b = np.arange(9).reshape((3,3))\n",
    "\n",
    "print(\"Matrix = \\n\", b)\n",
    "\n",
    "print(\"\\nMatrix + 10.5 =\\n\", (b + 10.5))\n",
    "\n",
    "print(\"\\nMatrix * 0.25 =\\n\", (b * 0.25))\n",
    "\n",
    "print(\"\\nMatrix % 2 =\\n\", (b % 2))\n",
    "\n",
    "print(\"\\nMatrix / 3.0 =\\n\", ((b - 4.0) / 3.))"
   ]
  },
  {
   "cell_type": "markdown",
   "metadata": {},
   "source": [
    "----- \n",
    "\n",
    "We also can combine arrays as long as they have the same dimensionality.\n",
    "In the next Code cell, we create a one-dimensional and a two-dimensional\n",
    "array and demonstrate how these two arrays can be combined.\n",
    "\n",
    "-----"
   ]
  },
  {
   "cell_type": "code",
   "execution_count": 8,
   "metadata": {},
   "outputs": [
    {
     "name": "stdout",
     "output_type": "stream",
     "text": [
      "Array = \n",
      " [1 2 3 4 5 6 7 8 9]\n",
      "\n",
      "Matrix = \n",
      " [[ 9.  8.  7.]\n",
      " [ 6.  5.  4.]\n",
      " [ 3.  2.  1.]]\n",
      "\n",
      "Array[0:3] + Matrix Row 1 =  [ 10.  10.  10.]\n",
      "\n",
      "Array[0:3] + Matrix[:0] =  [ 10.   8.   6.]\n",
      "\n",
      "Array[3:6] + Matrix[0:] =  [ 13.  13.  13.]\n",
      "\n",
      "3.0 * Array[3:6] + (10.5 + Matrix[0:]) =  [ 31.5  33.5  35.5]\n"
     ]
    }
   ],
   "source": [
    "# Create two arrays\n",
    "a = np.arange(1, 10)\n",
    "b = (10. - a).reshape((3, 3))\n",
    "\n",
    "print(f\"Array = \\n {a}\")\n",
    "print(f\"\\nMatrix = \\n {b}\")\n",
    "\n",
    "print(\"\\nArray[0:3] + Matrix Row 1 = \",a[:3] + b[0,:,])\n",
    "\n",
    "print(\"\\nArray[0:3] + Matrix[:0] = \", a[:3] + b[:,0])\n",
    "\n",
    "print(\"\\nArray[3:6] + Matrix[0:] = \", a[3:6] + b[0, :])\n",
    "\n",
    "# Now combine scalar operations\n",
    "\n",
    "print(\"\\n3.0 * Array[3:6] + (10.5 + Matrix[0:]) = \", 3.0 * a[3:6] + (10.5 + b[0, :]))"
   ]
  },
  {
   "cell_type": "markdown",
   "metadata": {},
   "source": [
    "-----\n",
    "\n",
    "### Summary Functions\n",
    "\n",
    "NumPy provides convenience functions that can quickly summarize the values of an array, or the values along a specific axis of a multi-dimensional array. These functions include basic [statistical measures][1] (`mean`, `median`, `var`, `std`, `min`, and `max`), the total sum or product of all elements in the array (`sum`, `prod`), as well as running sums or products for all elements in the array (`cumsum`, `cumprod`). The last two functions actually produce arrays that are of the same size as the input array, where each element is replaced by the respective running sum/product up to and including the current element. Another function, `trace`, calculates the trace of an array, which simply sums up the diagonal elements in the multi-dimensional array.\n",
    "\n",
    "-----\n",
    "\n",
    "[1]: http://docs.scipy.org/doc/numpy/reference/routines.statistics.html"
   ]
  },
  {
   "cell_type": "code",
   "execution_count": 9,
   "metadata": {},
   "outputs": [
    {
     "name": "stdout",
     "output_type": "stream",
     "text": [
      "Array = \n",
      "[[1 2 3]\n",
      " [4 5 6]\n",
      " [7 8 9]]\n",
      "\n",
      "Mean value (all) = 5.0\n",
      "Mean value (columns) = [ 4.  5.  6.]\n",
      "Mean value (rows) = [ 2.  5.  8.]\n",
      "\n",
      "Std. Deviation (columns) = [ 2.44948974  2.44948974  2.44948974]\n",
      "Std. Deviation (rows) = [ 0.81649658  0.81649658  0.81649658]\n",
      "\n",
      "Minimum value (columns) = [1 2 3]\n",
      "Maximum value (columns) = [7 8 9]\n",
      "\n",
      "Trace of 5 x 5 identity matrix =  5.0\n"
     ]
    }
   ],
   "source": [
    "# Demonstrate data processing convenience functions\n",
    "\n",
    "# Make an array = [1, 2, 3, 4, 5]\n",
    "a = np.arange(1, 10).reshape(3,3)\n",
    "print(f'Array = \\n{a}\\n')\n",
    "\n",
    "print(\"Mean value (all) = {}\".format(np.mean(a)))\n",
    "print(\"Mean value (columns) = {}\".format(np.mean(a, axis = 0)))\n",
    "print(\"Mean value (rows) = {}\\n\".format(np.mean(a, axis = 1)))\n",
    "\n",
    "print(\"Std. Deviation (columns) = {}\".format(np.std(a, axis = 0)))\n",
    "print(\"Std. Deviation (rows) = {}\\n\".format(np.std(a, axis = 1)))\n",
    "\n",
    "\n",
    "print(\"Minimum value (columns) = {}\".format(np.min(a, axis = 0)))\n",
    "print(\"Maximum value (columns) = {}\\n\".format(np.max(a, axis = 0)))\n",
    "\n",
    "# Now compute trace of 5 x 5 diagonal matrix (= 5)\n",
    "print('Trace of 5 x 5 identity matrix = ', np.trace(np.eye(5)))"
   ]
  },
  {
   "cell_type": "markdown",
   "metadata": {},
   "source": [
    "-----\n",
    "\n",
    "## Universal Functions\n",
    "\n",
    "NumPy also includes methods that are _universal functions_, or [__ufuncs__][1] that are vectorized and thus operate on each element in the array, without the need for a loop. This topic was discussed previously in considerable detail in the _Introduction to NumPy_ lesson; here we simply demonstrate the basic ideas with multi-dimensional arrays. \n",
    "\n",
    "You have already seen examples of some of these functions at the start of this IPython Notebook when we compared the speed and simplicity of NumPy versus normal Python for numerical operations. These functions almost all include an optional `out` parameter that allows a pre-defined NumPy array to be used to hold the results of the calculation, which can often speed up the processing by eliminating the need for the creation and destruction of temporary  arrays. These functions will all still return the final array, even if the `out` parameter is used. \n",
    "\n",
    "For complete details, look at the official [NumPy _ufunc_][1] reference guide for more information on any of these functions, for example, the [isnan][2] function, since the user guide has a full breakdown of each function and sample code demonstrating how to use the function. \n",
    "\n",
    "In the following Code cells, we demonstrate several of these _ufuncs_ on multi-dimensional arrays.\n",
    "\n",
    "-----\n",
    "[1]: http://docs.scipy.org/doc/numpy/reference/ufuncs.html\n",
    "[2]: http://docs.scipy.org/doc/numpy/reference/generated/numpy.isnan.html#numpy.isnan"
   ]
  },
  {
   "cell_type": "code",
   "execution_count": 10,
   "metadata": {},
   "outputs": [
    {
     "name": "stdout",
     "output_type": "stream",
     "text": [
      "original array:\n",
      " [[1 2 3]\n",
      " [4 5 6]\n",
      " [7 8 9]]\n",
      "\n",
      "np.sin : \n",
      " [[ 0.84147098  0.90929743  0.14112001]\n",
      " [-0.7568025  -0.95892427 -0.2794155 ]\n",
      " [ 0.6569866   0.98935825  0.41211849]]\n",
      "\n",
      "np.log and np.abs : \n",
      " [[-0.07496085 -0.04129404 -0.85041141]\n",
      " [-0.12101744 -0.01821569 -0.55374951]\n",
      " [-0.18244349 -0.00464642 -0.38497791]]\n",
      "\n",
      "np.mod : \n",
      " [[1 0 1]\n",
      " [0 1 0]\n",
      " [1 0 1]]\n",
      "\n",
      "np.logical_and : \n",
      " [[ True False  True]\n",
      " [False  True False]\n",
      " [ True False  True]]\n"
     ]
    }
   ],
   "source": [
    "# Make a 3 x 3 two-dimensional array\n",
    "b = np.arange(1, 10).reshape(3, 3)\n",
    "\n",
    "print('original array:\\n', b)\n",
    "\n",
    "# Peeform ufunc math\n",
    "\n",
    "c = np.sin(b)\n",
    "\n",
    "print('\\nnp.sin : \\n', c)\n",
    "print('\\nnp.log and np.abs : \\n', np.log10(np.abs(c)))\n",
    "print('\\nnp.mod : \\n', np.mod(b, 2))\n",
    "print('\\nnp.logical_and : \\n', np.logical_and(np.mod(b, 2), True))"
   ]
  },
  {
   "cell_type": "code",
   "execution_count": 11,
   "metadata": {},
   "outputs": [
    {
     "name": "stdout",
     "output_type": "stream",
     "text": [
      "Greater Than or Equal Test: \n",
      " [[False False False]\n",
      " [False False  True]\n",
      " [ True  True  True]]\n"
     ]
    },
    {
     "data": {
      "text/plain": [
       "array([[False, False, False],\n",
       "       [False, False,  True],\n",
       "       [False,  True, False]], dtype=bool)"
      ]
     },
     "execution_count": 11,
     "metadata": {},
     "output_type": "execute_result"
    }
   ],
   "source": [
    "# Demonstrate Boolean tests with operators\n",
    "\n",
    "d = np.arange(9).reshape(3, 3)\n",
    "\n",
    "print(\"Greater Than or Equal Test: \\n\", d >= 5)\n",
    "\n",
    "# Now combine to form Boolean Matrix\n",
    "\n",
    "np.logical_and(d > 3, d % 2)"
   ]
  },
  {
   "cell_type": "markdown",
   "metadata": {},
   "source": [
    "-----\n",
    "\n",
    "<font color='red' size = '5'> Student Exercise </font>\n",
    "\n",
    "In the empty **Code** cell below, write and execute code to make a four by four matrix that contains the integers 0 through 15. Add five to the first row, ten to the second row, fifteen to the third row, twenty to the fourth row, and display the resulting matrix. Next apply the `cos` function to the odd rows, and the `sin` function to the even rows (recall that Python indexing starts at zero), and display the resulting matrix. Finally, compute and display the cumulative sum for each row, and the cumulative product for each column.\n",
    "\n",
    "-----"
   ]
  },
  {
   "cell_type": "code",
   "execution_count": null,
   "metadata": {
    "collapsed": true
   },
   "outputs": [],
   "source": []
  },
  {
   "cell_type": "markdown",
   "metadata": {},
   "source": [
    "-----\n",
    "\n",
    "## Masked Arrays\n",
    "\n",
    "As discussed in a previous lesson, NumPy provides support for [masked arrays][1], where certain elements can be _masked_ based on some criterion and ignored during subsequent calculations (i.e., these elements are masked). Masked arrays are in the `numpy.ma` package, and simply require a masked array to be created from a given array and a condition that indicates which elements should be masked. This new masked array can be used as a normal NumPy (multi-dimensional) array, except the masked elements are ignored. NumPy provides [operations][2] for masked arrays, allowing them to be used in a similar manner as normal NumPy arrays.\n",
    "\n",
    "[1]: http://docs.scipy.org/doc/numpy/reference/maskedarray.generic.html#examples\n",
    "[2]: http://docs.scipy.org/doc/numpy/reference/routines.ma.html"
   ]
  },
  {
   "cell_type": "markdown",
   "metadata": {},
   "source": [
    "-----\n",
    "\n",
    "## Correlation Measurements\n",
    "\n",
    "In the _Scatter Plots_ notebook, you learned to visually interpret relationships between data. Given two NumPy arrays, we can calculate analytic measures of the correlation between the two arrays to quantify any relationship. The two main techniques for computing a correlation are the Pearson and the Spearman correlation coefficients.\n",
    "\n",
    "### Pearson Correlation Coefficient\n",
    "\n",
    "The [Pearson correlation coefficient][wp] measures the linear relationship between two arrays. The computed value ranges between -1 and +1, with the former implying an exact negative linear relationship, and the latter an exact positive linear relationship. A value of zero indicates no correlation. The following figure, from Wikipedia, provides a visual illustration of two dimensional distributions of pints for various values of $r$.\n",
    "\n",
    "![Wikipedia PCC Figure](https://upload.wikimedia.org/wikipedia/commons/0/02/Correlation_examples.png)\n",
    "\n",
    "In the spirit of this figure, there are several online games where you can view a two-dimensional distribution of points and guess the correlation. The first is an old-style arcade game, [_Guess the Correlation_][gc], while the second is a teaching game called [_Correlation Guessing Game_][cg]. These games provide an excellent chance to improve your understanding of the relationship between an analytic correlation measure (introduced herein) and the visual appearance of a distribution of data (as covered in the Python Two-Dimensional Plotting notebook). This skill will be valuable as you learn to perform linear regression and more generally when working with multi-dimensional data in the future.\n",
    "\n",
    "We will use the [`pearsonr`][sp] function provided by the SciPy module, which computes and returns the $r$ value we are after as well as a two-tailed p-value, which we can safely ignore for now (this will be discussed in a subsequent course).\n",
    "\n",
    "### Spearman Correlation Coefficient\n",
    "\n",
    "The [Spearman correlation coefficient][ws] measures whether or not two arrays have a monotonic relationship, which basically means that as $x$ increases, $y$ continues to move in the same manner without changing direction (thus if $y$ is increasing, it never starts decreasing, and vice-versa). The computed value ranges between -1 and +1, with the former implying an exact negative monotonic relationship, and the latter an exact positive monotonic relationship. A value of zero indicates no correlation. We will use the  [`spearmanr`][ss] function provided by the SciPy module, which computes and returns the $rho$ value we are after as well as a two-tailed p-value for a hypothesis test, which we can safely ignore for now (this will be discussed in a subsequent course).\n",
    "\n",
    "### Covariance\n",
    "\n",
    "In some cases, we do not want a single value indicating the relationship between two sets of data, and instead we want to know how each variable in an array (or matrix) varies in relationship to the other variables. This computation is known as the [covariance][wcm], which produces a matrix whose diagonal elements represent the variance between the same variables and the off-diagonal elements are the covariances for a given pair of different variables. This is encoded in the following formula:\n",
    "\n",
    "\\begin{equation}\n",
    "\\textrm{Cov(}x_i\\textrm{, }y_i\\textrm{)} = (x_i - \\mu_x) (y_j - \\mu_y)\n",
    "\\end{equation}\n",
    "\n",
    "where $\\mu_x$ and $\\mu_y$ are the mean values for the $x$-array and $y$-array, respectively.\n",
    "\n",
    "Given two equal-sized arrays, we can compute the covariance between them by using the NumPy [`cov`][ncm] function. To aid in the interpretation of the covariance, this matrix can be normalized by the variances to create a new matrix called the correlation matrix. The entries in this new matrix are Pearson product-moment correlation coefficients. We can calculate this correlation matrix, whose values are constrained to lie between -1 (perfect negative correlation) and +1 (perfect positive correlation) by using the NumPy [`corrcoef`][ncc] function.\n",
    "\n",
    "The following code cell demonstrates these functions on correlated and random data, respectively.\n",
    "\n",
    "-----\n",
    "\n",
    "[gc]: http://guessthecorrelation.com\n",
    "[cg]: http://www.rossmanchance.com/applets/GuessCorrelation.html\n",
    "\n",
    "[wp]: https://en.wikipedia.org/wiki/Pearson_correlation_coefficient\n",
    "[sp]: https://docs.scipy.org/doc/scipy/reference/generated/scipy.stats.pearsonr.html\n",
    "\n",
    "[ws]: https://en.wikipedia.org/wiki/Spearman%27s_rank_correlation_coefficient\n",
    "[ss]: https://docs.scipy.org/doc/scipy/reference/generated/scipy.stats.spearmanr.html\n",
    "\n",
    "[wcm]: https://en.wikipedia.org/wiki/Covariance\n",
    "[ncm]: https://docs.scipy.org/doc/numpy/reference/generated/numpy.cov.html\n",
    "[ncc]: https://docs.scipy.org/doc/numpy/reference/generated/numpy.corrcoef.html"
   ]
  },
  {
   "cell_type": "code",
   "execution_count": 12,
   "metadata": {},
   "outputs": [
    {
     "name": "stdout",
     "output_type": "stream",
     "text": [
      "Pearsonr correlation for x,x = 1.0000\n",
      "Spearmanr correlation for x,x = 1.0000\n",
      "Pearsonr correlation for x,y = -1.0000\n",
      "Spearmanr correlation for x,y = -1.0000\n",
      "\n",
      "Covariance Matrix = \n",
      " [[ 9.16666667 -9.16666667]\n",
      " [-9.16666667  9.16666667]]\n",
      "\n",
      "Correlation Matrix = \n",
      " [[ 1. -1.]\n",
      " [-1.  1.]]\n",
      "\n",
      "Pearsonr correlation for random x,y = -0.4597\n",
      "Spearmanr correlation for random x,y = -0.5273\n",
      "\n"
     ]
    }
   ],
   "source": [
    "import scipy.stats as st\n",
    "\n",
    "# Create two correlated arrays\n",
    "x = np.arange(10)\n",
    "y = 9 - x\n",
    "\n",
    "# Compute auto-correlations\n",
    "pr1 = st.pearsonr(x, x)\n",
    "sr1 = st.spearmanr(x, x)\n",
    "\n",
    "# Compute cross-correlations\n",
    "pr2 = st.pearsonr(x, y)\n",
    "sr2 = st.spearmanr(x, y)\n",
    "\n",
    "print('Pearsonr correlation for x,x = {0:6.4f}'.format(pr1[0]))\n",
    "print('Spearmanr correlation for x,x = {0:6.4f}'.format(sr1[0]))\n",
    "print('Pearsonr correlation for x,y = {0:6.4f}'.format(pr2[0]))\n",
    "print('Spearmanr correlation for x,y = {0:6.4f}\\n'.format(sr2[0]))\n",
    "\n",
    "print('Covariance Matrix = \\n', np.cov(x, y))\n",
    "print()\n",
    "\n",
    "print('Correlation Matrix = \\n', np.corrcoef(x, y))\n",
    "print()\n",
    "\n",
    "# Generate random arrays\n",
    "x = np.random.uniform(0, 1, 10)\n",
    "y = np.random.uniform(0, 1, 10)\n",
    "\n",
    "# Compute cross-correlations, should be close to null\n",
    "prr = st.pearsonr(x, y)\n",
    "srr = st.spearmanr(x, y)\n",
    "\n",
    "print('Pearsonr correlation for random x,y = {0:6.4f}'.format(prr[0]))\n",
    "print('Spearmanr correlation for random x,y = {0:6.4f}\\n'.format(srr[0]))"
   ]
  },
  {
   "cell_type": "markdown",
   "metadata": {},
   "source": [
    "-----\n",
    "\n",
    "<font color='red' size = '5'> Student Exercise </font>\n",
    "\n",
    "In the empty **Code** cell below, write and execute code to compute the Pearson and Spearman correlations for the columns in the _Iris_ data set. You can load this data from the Seaborn module, and extract the columns as NumPy matrices to simplify the calculation. Do these values make sense in light of the scatter plots you generated previously?\n",
    "\n",
    "-----"
   ]
  },
  {
   "cell_type": "code",
   "execution_count": null,
   "metadata": {
    "collapsed": true
   },
   "outputs": [],
   "source": []
  },
  {
   "cell_type": "markdown",
   "metadata": {},
   "source": [
    "-----\n",
    "\n",
    "## Ancillary Information\n",
    "\n",
    "The following links are to additional documentation that you might find helpful in learning this material. Reading these web-accessible documents is completely optional.\n",
    "\n",
    "1. [NumPy tutorial][1]\n",
    "2. [NumPy cheatsheet][2]\n",
    "3. [NumPy lecture notes][3]\n",
    "4. [NumPy notebook demo][4]\n",
    "3. The [NumPy chapter][pdc] from the book _Python Data Science Handbook_ by Jake VanderPlas\n",
    "\n",
    "-----\n",
    "\n",
    "[1]: http://docs.scipy.org/doc/numpy/user/index.html\n",
    "[2]: http://pages.physics.cornell.edu/~myers/teaching/ComputationalMethods/python/arrays.html\n",
    "[3]: http://www.scipy-lectures.org/intro/numpy/index.html\n",
    "[4]: http://nbviewer.ipython.org/github/jrjohansson/scientific-python-lectures/blob/master/Lecture-2-Numpy.ipynb\n",
    "[pdc]: http://nbviewer.jupyter.org/github/jakevdp/PythonDataScienceHandbook/blob/master/notebooks/02.00-Introduction-to-NumPy.ipynb"
   ]
  },
  {
   "cell_type": "markdown",
   "metadata": {
    "deletable": false,
    "editable": false
   },
   "source": [
    "**&copy; 2017: Robert J. Brunner at the University of Illinois.**\n",
    "\n",
    "This notebook is released under the [Creative Commons license CC BY-NC-SA 4.0][ll]. Any reproduction, adaptation, distribution, dissemination or making available of this notebook for commercial use is not allowed unless authorized in writing by the copyright holder.\n",
    "\n",
    "[ll]: https://creativecommons.org/licenses/by-nc-sa/4.0/legalcode "
   ]
  }
 ],
 "metadata": {
  "kernelspec": {
   "display_name": "Python 3",
   "language": "python",
   "name": "python3"
  },
  "language_info": {
   "codemirror_mode": {
    "name": "ipython",
    "version": 3
   },
   "file_extension": ".py",
   "mimetype": "text/x-python",
   "name": "python",
   "nbconvert_exporter": "python",
   "pygments_lexer": "ipython3",
   "version": "3.6.5"
  }
 },
 "nbformat": 4,
 "nbformat_minor": 1
}
