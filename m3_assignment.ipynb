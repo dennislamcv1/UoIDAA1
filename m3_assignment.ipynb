{
 "cells": [
  {
   "cell_type": "markdown",
   "metadata": {
    "deletable": false,
    "editable": false,
    "nbgrader": {
     "checksum": "82dca0f8b704bb1cfb727d2181bdc29c",
     "grade": false,
     "grade_id": "title",
     "locked": true,
     "schema_version": 1,
     "solution": false
    }
   },
   "source": [
    "# Module 3 Assignment"
   ]
  },
  {
   "cell_type": "code",
   "execution_count": 1,
   "metadata": {
    "deletable": false,
    "editable": false,
    "nbgrader": {
     "checksum": "67904cb60bd6deafe90c56c87351e801",
     "grade": false,
     "grade_id": "import",
     "locked": true,
     "schema_version": 1,
     "solution": false
    }
   },
   "outputs": [],
   "source": [
    "import csv\n",
    "from nose.tools import assert_equal, assert_almost_equal\n",
    "import pandas as pd"
   ]
  },
  {
   "cell_type": "markdown",
   "metadata": {
    "deletable": false,
    "editable": false,
    "nbgrader": {
     "checksum": "553f35e617a3936db22242b7d164c127",
     "grade": false,
     "grade_id": "intro",
     "locked": true,
     "schema_version": 1,
     "solution": false
    }
   },
   "source": [
    "\n",
    "A few things you should keep in mind when working on assignments:\n",
    "\n",
    "1. Make sure you fill in any place that says `YOUR CODE HERE`. Do **not** write your answer in anywhere else other than where it says `YOUR CODE HERE`. Anything you write anywhere else will be removed or overwritten by the autograder.\n",
    "\n",
    "2. Before you submit your assignment, make sure everything runs as expected. Go to menubar, select _Kernel_, and restart the kernel and run all cells (_Restart & Run all_).\n",
    "\n",
    "3. Do not change the title (i.e. file name) of this notebook.\n",
    "\n",
    "4. Make sure that you save your work (in the menubar, select _File_ → _Save and CheckPoint_)\n"
   ]
  },
  {
   "cell_type": "markdown",
   "metadata": {
    "deletable": false,
    "editable": false,
    "nbgrader": {
     "checksum": "8ee4c66c49b859077ff9a6ad5404d366",
     "grade": false,
     "grade_id": "p1_text",
     "locked": true,
     "schema_version": 1,
     "solution": false
    }
   },
   "source": [
    "# Problem 1: Reading files with the CSV Library\n",
    "In this problem you will finish writing a function called *read_data* that reads the [iris dataset](https://archive.ics.uci.edu/ml/datasets/Iris).\n",
    "The columns are in this order:\n",
    "1. Column 1: sepal length in cm \n",
    "2. Column 2: sepal width in cm \n",
    "3. Column 3: petal length in cm \n",
    "4. Column 4: petal width in cm \n",
    "5. Column 5: class\n",
    "\n",
    "There are multiple ways to solve this problem but ultimately this function should:\n",
    "- Accept a string that will be the path to the iris dataset (we named this parameter *file_path*)\n",
    "- Store each column of the dataset in different list.\n",
    "- Convert Columns 1-4 to floats.\n",
    "- Return each of the columns (total of 5) in the following order: \n",
    "\t- sepal length in cm \n",
    "\t- petal length in cm \n",
    "\t- sepal width in cm \n",
    "\t- petal width in cm \n",
    "\t- class"
   ]
  },
  {
   "cell_type": "code",
   "execution_count": 2,
   "metadata": {},
   "outputs": [],
   "source": [
    "# df = pd.read_csv(\"iris.csv\")\n",
    "# df.columns"
   ]
  },
  {
   "cell_type": "code",
   "execution_count": 3,
   "metadata": {
    "deletable": false,
    "nbgrader": {
     "checksum": "aa9c626e79e058c7b7676e72f44f1e56",
     "grade": false,
     "grade_id": "p1_answer",
     "locked": false,
     "schema_version": 1,
     "solution": true
    }
   },
   "outputs": [],
   "source": [
    "def read_data(file_path):\n",
    "    '''\n",
    "    This function reads data from the iris data and returns 5 lists (1 for each column)\n",
    "    \n",
    "    file_path: string that specifies path to iris dataset\n",
    "    '''\n",
    "    \n",
    "    ### YOUR CODE HERE\n",
    "    # We store the rows in a list\n",
    "    \n",
    "    df = pd.read_csv(file_path)\n",
    "    \n",
    "    # Convert to list\n",
    "    sepal_len = df[\"sepal length (in cm)\"].to_list()\n",
    "    petal_len = df[\"petal length (in cm)\"].to_list()\n",
    "    sepal_wid = df[\"sepal width (in cm)\"].to_list()\n",
    "    petal_wid = df[\"petal width (in cm)\"].to_list()\n",
    "    class_ = df[\"class\"].to_list()\n",
    "    \n",
    "    return sepal_len, petal_len, sepal_wid, petal_wid, class_"
   ]
  },
  {
   "cell_type": "code",
   "execution_count": 4,
   "metadata": {
    "deletable": false,
    "nbgrader": {
     "checksum": "653b00ea78174337fddef9bfbd42a271",
     "grade": false,
     "grade_id": "p1_run",
     "locked": true,
     "schema_version": 1,
     "solution": false
    }
   },
   "outputs": [],
   "source": [
    "file_path = './iris.csv'\n",
    "sepal_len, petal_len, sepal_wid, petal_wid, class_ = read_data(file_path)"
   ]
  },
  {
   "cell_type": "code",
   "execution_count": 5,
   "metadata": {
    "deletable": false,
    "editable": false,
    "nbgrader": {
     "checksum": "a80eff2a5220b5d848077b82d6e8fdcb",
     "grade": true,
     "grade_id": "p1_test",
     "locked": true,
     "points": 1,
     "schema_version": 1,
     "solution": false
    }
   },
   "outputs": [],
   "source": [
    "assert_equal(sepal_len[0:50], [5.1, 4.9, 4.7, 4.6, 5.0, 5.4, 4.6, 5.0, 4.4, 4.9, 5.4,\n",
    "                               4.8, 4.8, 4.3, 5.8, 5.7, 5.4, 5.1, 5.7, 5.1, 5.4, 5.1,\n",
    "                               4.6, 5.1, 4.8, 5.0, 5.0, 5.2, 5.2, 4.7, 4.8, 5.4, 5.2,\n",
    "                               5.5, 4.9, 5.0, 5.5, 4.9, 4.4, 5.1, 5.0, 4.5, 4.4, 5.0,\n",
    "                               5.1, 4.8, 5.1, 4.6, 5.3, 5.0])\n",
    "assert_equal(sepal_len[75:100], [6.6, 6.8, 6.7, 6.0, 5.7, 5.5, 5.5, 5.8, 6.0, 5.4, 6.0,\n",
    "                                 6.7, 6.3, 5.6, 5.5, 5.5, 6.1, 5.8, 5.0, 5.6, 5.7, 5.7,\n",
    "                                 6.2, 5.1, 5.7])\n",
    "\n",
    "assert_equal(petal_len[0:25], [1.4, 1.4, 1.3, 1.5, 1.4, 1.7, 1.4, 1.5, 1.4, 1.5, 1.5,\n",
    "                               1.6, 1.4, 1.1, 1.2, 1.5, 1.3, 1.4, 1.7, 1.5, 1.7, 1.5,\n",
    "                               1.0, 1.7, 1.9])\n",
    "assert_equal(petal_len[44:67], [1.9, 1.4, 1.6, 1.4, 1.5, 1.4, 4.7, 4.5, 4.9, 4.0, 4.6,\n",
    "                                4.5, 4.7, 3.3, 4.6, 3.9, 3.5, 4.2, 4.0, 4.7, 3.6, 4.4, 4.5])\n",
    "\n",
    "assert_equal(sepal_wid[0:33], [3.5, 3.0, 3.2, 3.1, 3.6, 3.9, 3.4, 3.4, 2.9, 3.1, 3.7,\n",
    "                               3.4, 3.0, 3.0, 4.0, 4.4, 3.9, 3.5, 3.8, 3.8, 3.4, 3.7,\n",
    "                               3.6, 3.3, 3.4, 3.0, 3.4, 3.5, 3.4, 3.2, 3.1, 3.4, 4.1])\n",
    "assert_equal(sepal_wid[44:100], [3.8, 3.0, 3.8, 3.2, 3.7, 3.3, 3.2, 3.2, 3.1, 2.3, 2.8,\n",
    "                                 2.8, 3.3, 2.4, 2.9, 2.7, 2.0, 3.0, 2.2, 2.9, 2.9, 3.1,\n",
    "                                 3.0, 2.7, 2.2, 2.5, 3.2, 2.8, 2.5, 2.8, 2.9, 3.0, 2.8,\n",
    "                                 3.0, 2.9, 2.6, 2.4, 2.4, 2.7, 2.7, 3.0, 3.4, 3.1, 2.3,\n",
    "                                 3.0, 2.5, 2.6, 3.0, 2.6, 2.3, 2.7, 3.0, 2.9, 2.9, 2.5, 2.8])\n",
    "\n",
    "assert_equal(petal_wid[15:40], [0.4, 0.4, 0.3, 0.3, 0.3, 0.2, 0.4, 0.2, 0.5, 0.2, 0.2, 0.4,\n",
    "                                0.2, 0.2, 0.2, 0.2, 0.4, 0.1, 0.2, 0.1, 0.2, 0.2, 0.1, 0.2,\n",
    "                                0.2])\n",
    "assert_equal(petal_wid[45:78], [0.3, 0.2, 0.2, 0.2, 0.2, 1.4, 1.5, 1.5, 1.3, 1.5, 1.3, 1.6,\n",
    "                                1.0, 1.3, 1.4, 1.0, 1.5, 1.0, 1.4, 1.3, 1.4, 1.5, 1.0, 1.5,\n",
    "                                1.1, 1.8, 1.3, 1.5, 1.2, 1.3, 1.4, 1.4, 1.7])\n",
    "\n",
    "assert_equal(class_[45:55], ['Iris-setosa', 'Iris-setosa', 'Iris-setosa', 'Iris-setosa',\n",
    "                             'Iris-setosa', 'Iris-versicolor', 'Iris-versicolor',\n",
    "                             'Iris-versicolor', 'Iris-versicolor', 'Iris-versicolor'])\n",
    "assert_equal(class_[75:90], ['Iris-versicolor', 'Iris-versicolor', 'Iris-versicolor',\n",
    "                             'Iris-versicolor', 'Iris-versicolor', 'Iris-versicolor',\n",
    "                             'Iris-versicolor', 'Iris-versicolor', 'Iris-versicolor',\n",
    "                             'Iris-versicolor', 'Iris-versicolor', 'Iris-versicolor',\n",
    "                             'Iris-versicolor', 'Iris-versicolor', 'Iris-versicolor'])"
   ]
  },
  {
   "cell_type": "markdown",
   "metadata": {
    "deletable": false,
    "editable": false,
    "nbgrader": {
     "checksum": "606a0f43e616f3142533e844124ff73f",
     "grade": false,
     "grade_id": "p2_text",
     "locked": true,
     "schema_version": 1,
     "solution": false
    }
   },
   "source": [
    "# Problem 2: Finding column names\n",
    "\n",
    "Recall that the column names of the data frame, `df`, can all be found at once using `df.columns`.\n",
    "\n",
    "In this problem you will use `df.columns` to find the name of the first two columns of `df`, and save it in a variable named `firsttwo_column_names`.\n",
    "\n",
    "**Hint**: Treat `df.columns` like an array or a list."
   ]
  },
  {
   "cell_type": "code",
   "execution_count": 6,
   "metadata": {
    "deletable": false,
    "nbgrader": {
     "checksum": "2919b06fcb42410f24405e77ac75d89e",
     "grade": false,
     "grade_id": "p2_answer",
     "locked": false,
     "schema_version": 1,
     "solution": true
    }
   },
   "outputs": [],
   "source": [
    "df = pd.read_csv('./iris.csv')\n",
    "### YOUR CODE HERE\n",
    "firsttwo_column_names = df.columns[:2]"
   ]
  },
  {
   "cell_type": "code",
   "execution_count": 7,
   "metadata": {
    "deletable": false,
    "editable": false,
    "nbgrader": {
     "checksum": "43e58ed9670a7ada85eb33a905a4e3d7",
     "grade": true,
     "grade_id": "p2_test",
     "locked": true,
     "points": 1,
     "schema_version": 1,
     "solution": false
    }
   },
   "outputs": [],
   "source": [
    "assert_equal(type(firsttwo_column_names), pd.Index)\n",
    "assert_equal(len(firsttwo_column_names), 2)"
   ]
  },
  {
   "cell_type": "markdown",
   "metadata": {
    "deletable": false,
    "editable": false,
    "nbgrader": {
     "checksum": "e50890ba619165101e306532f7f17ad1",
     "grade": false,
     "grade_id": "p4_text",
     "locked": true,
     "schema_version": 1,
     "solution": false
    }
   },
   "source": [
    "# Problem 3: Manipulating the Iris Dataset with Panadas\n",
    "We have read in the iris dataset and stored in a pandas dataframe for you in the below cell, this variable is called `df`.  \n",
    "\n",
    "Your task is to finish the function `df_manipulate`. Dataframe `df` is passed into `df_manipulate`. Using Dataframe `df` do the following:\n",
    "- Find the sum of the \"sepal length in cm\" column. Store this in a variable called `sepal_length_sum`.\n",
    "- Transpose the dataframe and store in a variable called `dfT`.\n"
   ]
  },
  {
   "cell_type": "code",
   "execution_count": 8,
   "metadata": {
    "deletable": false,
    "editable": false,
    "nbgrader": {
     "checksum": "b9bfadd7b559b810ad2b23e15130ea7d",
     "grade": false,
     "grade_id": "p4_run_1",
     "locked": true,
     "schema_version": 1,
     "solution": false
    }
   },
   "outputs": [
    {
     "data": {
      "text/html": [
       "<div>\n",
       "<style scoped>\n",
       "    .dataframe tbody tr th:only-of-type {\n",
       "        vertical-align: middle;\n",
       "    }\n",
       "\n",
       "    .dataframe tbody tr th {\n",
       "        vertical-align: top;\n",
       "    }\n",
       "\n",
       "    .dataframe thead th {\n",
       "        text-align: right;\n",
       "    }\n",
       "</style>\n",
       "<table border=\"1\" class=\"dataframe\">\n",
       "  <thead>\n",
       "    <tr style=\"text-align: right;\">\n",
       "      <th></th>\n",
       "      <th>sepal length (in cm)</th>\n",
       "      <th>sepal width (in cm)</th>\n",
       "      <th>petal length (in cm)</th>\n",
       "      <th>petal width (in cm)</th>\n",
       "      <th>class</th>\n",
       "    </tr>\n",
       "  </thead>\n",
       "  <tbody>\n",
       "    <tr>\n",
       "      <th>0</th>\n",
       "      <td>5.1</td>\n",
       "      <td>3.5</td>\n",
       "      <td>1.4</td>\n",
       "      <td>0.2</td>\n",
       "      <td>Iris-setosa</td>\n",
       "    </tr>\n",
       "    <tr>\n",
       "      <th>1</th>\n",
       "      <td>4.9</td>\n",
       "      <td>3.0</td>\n",
       "      <td>1.4</td>\n",
       "      <td>0.2</td>\n",
       "      <td>Iris-setosa</td>\n",
       "    </tr>\n",
       "    <tr>\n",
       "      <th>2</th>\n",
       "      <td>4.7</td>\n",
       "      <td>3.2</td>\n",
       "      <td>1.3</td>\n",
       "      <td>0.2</td>\n",
       "      <td>Iris-setosa</td>\n",
       "    </tr>\n",
       "    <tr>\n",
       "      <th>3</th>\n",
       "      <td>4.6</td>\n",
       "      <td>3.1</td>\n",
       "      <td>1.5</td>\n",
       "      <td>0.2</td>\n",
       "      <td>Iris-setosa</td>\n",
       "    </tr>\n",
       "    <tr>\n",
       "      <th>4</th>\n",
       "      <td>5.0</td>\n",
       "      <td>3.6</td>\n",
       "      <td>1.4</td>\n",
       "      <td>0.2</td>\n",
       "      <td>Iris-setosa</td>\n",
       "    </tr>\n",
       "  </tbody>\n",
       "</table>\n",
       "</div>"
      ],
      "text/plain": [
       "   sepal length (in cm)  sepal width (in cm)  petal length (in cm)  \\\n",
       "0                   5.1                  3.5                   1.4   \n",
       "1                   4.9                  3.0                   1.4   \n",
       "2                   4.7                  3.2                   1.3   \n",
       "3                   4.6                  3.1                   1.5   \n",
       "4                   5.0                  3.6                   1.4   \n",
       "\n",
       "   petal width (in cm)        class  \n",
       "0                  0.2  Iris-setosa  \n",
       "1                  0.2  Iris-setosa  \n",
       "2                  0.2  Iris-setosa  \n",
       "3                  0.2  Iris-setosa  \n",
       "4                  0.2  Iris-setosa  "
      ]
     },
     "execution_count": 8,
     "metadata": {},
     "output_type": "execute_result"
    }
   ],
   "source": [
    "df = pd.read_csv('./iris.csv') # Read in the iris dataset\n",
    "df.head() # First 5 rows of iris.csv"
   ]
  },
  {
   "cell_type": "code",
   "execution_count": 9,
   "metadata": {
    "deletable": false,
    "nbgrader": {
     "checksum": "efa25b39a315d90f98f0b537a589e452",
     "grade": false,
     "grade_id": "p4_answer",
     "locked": false,
     "schema_version": 1,
     "solution": true
    }
   },
   "outputs": [],
   "source": [
    "def df_manipulate(df):\n",
    "    '''\n",
    "    This function will return a transposed dataframe and the sum of the\n",
    "    'sepal length (in cm)' column.\n",
    "    \n",
    "    df: dataframe with data from iris dataset\n",
    "    '''\n",
    "    sepal_length_sum = df[\"sepal length (in cm)\"].sum()\n",
    "    \n",
    "    dfT = df.T\n",
    "    ### YOUR CODE HERE\n",
    "    return sepal_length_sum, dfT"
   ]
  },
  {
   "cell_type": "code",
   "execution_count": 10,
   "metadata": {
    "deletable": false,
    "editable": false,
    "nbgrader": {
     "checksum": "3301c4f58399caca14e23f1a920a6154",
     "grade": false,
     "grade_id": "p4_run_2",
     "locked": true,
     "schema_version": 1,
     "solution": false
    }
   },
   "outputs": [],
   "source": [
    "sepal_length_sum, dfT = df_manipulate(df)"
   ]
  },
  {
   "cell_type": "code",
   "execution_count": 11,
   "metadata": {
    "deletable": false,
    "editable": false,
    "nbgrader": {
     "checksum": "2d4edf4e5a5c4b97c52c80528b954e8e",
     "grade": true,
     "grade_id": "p4_test",
     "locked": true,
     "points": 1,
     "schema_version": 1,
     "solution": false
    }
   },
   "outputs": [],
   "source": [
    "assert_equal(dfT.equals(df.T), True)\n",
    "assert_almost_equal(sepal_length_sum, 876.5, places=5)"
   ]
  },
  {
   "cell_type": "markdown",
   "metadata": {
    "deletable": false,
    "editable": false
   },
   "source": [
    "**&copy; 2017: Robert J. Brunner at the University of Illinois.**\n",
    "\n",
    "This notebook is released under the [Creative Commons license CC BY-NC-SA 4.0][ll]. Any reproduction, adaptation, distribution, dissemination or making available of this notebook for commercial use is not allowed unless authorized in writing by the copyright holder.\n",
    "\n",
    "[ll]: https://creativecommons.org/licenses/by-nc-sa/4.0/legalcode "
   ]
  }
 ],
 "metadata": {
  "anaconda-cloud": {},
  "coursera": {
   "course_slug": "data-analytics-accountancy-1",
   "graded_item_id": "EdwYF",
   "launcher_item_id": "m3_assignment"
  },
  "kernelspec": {
   "display_name": "Python 3 (ipykernel)",
   "language": "python",
   "name": "python3"
  },
  "language_info": {
   "codemirror_mode": {
    "name": "ipython",
    "version": 3
   },
   "file_extension": ".py",
   "mimetype": "text/x-python",
   "name": "python",
   "nbconvert_exporter": "python",
   "pygments_lexer": "ipython3",
   "version": "3.9.12"
  }
 },
 "nbformat": 4,
 "nbformat_minor": 2
}
