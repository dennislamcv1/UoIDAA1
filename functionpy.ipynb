{
 "cells": [
  {
   "cell_type": "markdown",
   "metadata": {},
   "source": [
    "# Python Functions\n",
    "\n",
    "-----"
   ]
  },
  {
   "cell_type": "markdown",
   "metadata": {},
   "source": [
    "In this notebook, we introduce a modularization concept known as functions. Functions promote code reuse by encapsulating a particular set of program statements into a single entity. When you have completed this notebook, you will be able to create and apply user-defined functions.\n",
    "\n",
    "-----"
   ]
  },
  {
   "cell_type": "markdown",
   "metadata": {},
   "source": [
    "## Functions\n",
    "\n",
    "The Python language supports the creation and application of user-defined functions, which can simplify program development by promoting code reuse (in a similar manner as importing packages developed by others, but in this case, you are the code provider and consumer). In Python, a function is actually an object, like everything else, and they can thus be created and passed dynamically like any other data type.\n",
    "\n",
    "A Python function is defined by using the `def` keyword, followed by the function name. After the function name is a set of matching parentheses that enclose any arguments to the function. A colon character follows the closing parenthesis, which signifies the start of the code block that provides the function implementation, which is known as the function body. As a simple example, the following function takes no arguments and simply prints a standard message:\n",
    "\n",
    "```\n",
    "def hello():\n",
    "    print(\"Hello World!\")\n",
    "```\n",
    "\n",
    "This function is called in a Python program by simply using its name followed by the parentheses, `hello()`, which will print out `Hello World!` to the display."
   ]
  },
  {
   "cell_type": "markdown",
   "metadata": {},
   "source": [
    "-----\n",
    "\n",
    "<font color='red' size = '5'> Student Exercise </font>\n",
    "\n",
    "In the empty **Code** cell below, create a simple function that takes no arguments and prints the message **Success!**\n",
    "\n",
    "-----"
   ]
  },
  {
   "cell_type": "code",
   "execution_count": null,
   "metadata": {
    "collapsed": true
   },
   "outputs": [],
   "source": []
  },
  {
   "cell_type": "markdown",
   "metadata": {},
   "source": [
    "-----\n",
    "\n",
    "### Doc Strings\n",
    "\n",
    "A standard practice is to employ a docstring, or documentation string, comment immediately after the function definition line to provide documentation for the function. A docstring comment is enclosed in triple-quotes, for example:\n",
    "\n",
    "```python\n",
    "\"\"\"Here is our demonstration docstring comment.\n",
    "The text can span multiple lines, until\n",
    "the closing set of quotes is employed.\n",
    "\"\"\"\n",
    "```\n",
    "\n",
    "The Python interpreter will by default use this docstring as the official function documentation, which typically is accessed by using the built-in `help()` function. This is demonstrated in the following two code blocks, where we define and call this function, and subsequently access the documentation.\n",
    "\n",
    "-----"
   ]
  },
  {
   "cell_type": "code",
   "execution_count": 1,
   "metadata": {},
   "outputs": [
    {
     "name": "stdout",
     "output_type": "stream",
     "text": [
      "Hello World!\n"
     ]
    }
   ],
   "source": [
    "def hello():\n",
    "    \"\"\"Display a welcome message to the user.\"\"\"\n",
    "    print(\"Hello World!\")\n",
    "\n",
    "hello()"
   ]
  },
  {
   "cell_type": "code",
   "execution_count": 2,
   "metadata": {},
   "outputs": [
    {
     "name": "stdout",
     "output_type": "stream",
     "text": [
      "Help on function hello in module __main__:\n",
      "\n",
      "hello()\n",
      "    Display a welcome message to the user.\n",
      "\n"
     ]
    }
   ],
   "source": [
    "help(hello)"
   ]
  },
  {
   "cell_type": "markdown",
   "metadata": {},
   "source": [
    "-----\n",
    "\n",
    "### Function Arguments\n",
    "\n",
    "A function can accept zero or more arguments by simply listing the argument names between the parentheses. These argument names are the names you use to access the values contained in these arguments within the function body. For example, we can modify the original `hello` function to take a `name` argument that is used when printing out a welcome message:\n",
    "\n",
    "```\n",
    "def hello(name):\n",
    "    \"\"\"Display a welcome message to the user.\"\"\"\n",
    "    print(\"Hello {0}\".format(name))\n",
    "```\n",
    "\n",
    "When called with an argument `Alexander`, this function will print `Hello Alexander`. "
   ]
  },
  {
   "cell_type": "code",
   "execution_count": 3,
   "metadata": {},
   "outputs": [
    {
     "name": "stdout",
     "output_type": "stream",
     "text": [
      "Hello Alexander\n"
     ]
    }
   ],
   "source": [
    "# Create our first function that takes an argument\n",
    "\n",
    "def hello(name):\n",
    "    \"\"\"Display a welcome message to the user.\"\"\"\n",
    "    print(\"Hello {0}\".format(name))\n",
    "    \n",
    "hello('Alexander')"
   ]
  },
  {
   "cell_type": "markdown",
   "metadata": {},
   "source": [
    "-----\n",
    "\n",
    "Functions can take multiple arguments, in which case the different arguments are simply separated by commas between the parentheses. A function can also take data structures as arguments, like lists or tuples.\n",
    "\n",
    "```\n",
    "def hellolist(names, text):\n",
    "    \"\"\"\n",
    "    Display a welcome message to the user(s) listed in the names, \n",
    "    which is assumed to be a list. \n",
    "    \n",
    "    \"\"\"\n",
    "\n",
    "    for name in names:\n",
    "        print(\"Hello {0}, {1}\".format(name, text))\n",
    "```\n",
    "\n",
    "If this function is called as  `hellolist(['Alex', 'Joe', 'Jane'], \"welcome to class.\")`,  the following output is displayed:\n",
    "\n",
    "```\n",
    "Hello Alex, welcome to class.\n",
    "Hello Joe, welcome to class.\n",
    "Hello Jane, welcome to class.\n",
    "```\n",
    "\n",
    "In some cases, a function accepts one or more arguments that often have _default_ values. Python supports default arguments that enable a Python programmer to specify a default value for an argument, which can be overridden if the user supplies a specific value. A default argument is specified by simply including an equal sign and the default value after a specific argument, like `text = ' welcome to class.'`. With this default argument for the `hellolist` function, we could leave off the second argument if desired.\n",
    "\n",
    "Default arguments are often used in functions that are part of large packages, like `numpy` or `matplotlib` to simplify their use. New users can quickly call the functions, while advanced users can achieve more control of the function by specifying additional arguments explicitly."
   ]
  },
  {
   "cell_type": "code",
   "execution_count": 4,
   "metadata": {
    "collapsed": true
   },
   "outputs": [],
   "source": [
    "def hellolist(names, text):\n",
    "    \"\"\"\n",
    "    Display a welcome message to the user(s) listed in the names, \n",
    "    which is assumed to be a list. \n",
    "    \n",
    "    \"\"\"\n",
    "    \n",
    "    # Below we use an 'f-string' to simply display the desired result.\n",
    "\n",
    "    for name in names:\n",
    "        print(f\"Hello {name}, {text}\")"
   ]
  },
  {
   "cell_type": "code",
   "execution_count": 5,
   "metadata": {},
   "outputs": [
    {
     "name": "stdout",
     "output_type": "stream",
     "text": [
      "Hello Alex, welcome to class.\n",
      "Hello Joe, welcome to class.\n",
      "Hello Jane, welcome to class.\n"
     ]
    }
   ],
   "source": [
    "hellolist(['Alex', 'Joe', 'Jane'], \"welcome to class.\")"
   ]
  },
  {
   "cell_type": "markdown",
   "metadata": {},
   "source": [
    "----\n",
    "\n",
    "### Keyword Arguments\n",
    "\n",
    "One last aspect of function arguments is that when a function is called, the argument names listed in the function definition can be explicitly specified, along with the values they should take when the function is called. This type of function call is said to be using _keyword arguments_. When using keyword arguments, the order of the arguments listed in the function call is arbitrary and does not need to explicitly match the argument order listed in the function definition. For example, we could call the hellolist function:\n",
    "\n",
    "```\n",
    "hellolist(text=' welcome to class', names = ['Alex', 'Joe', 'Jane'])\n",
    "```\n",
    "\n",
    "### Returning Values\n",
    "\n",
    "A function can return values by using the `return` keyword. Single values are returned as the type of the value, while multiple values are returned as a tuple of values. These two cases are demonstrated in the following sample code:\n",
    "\n",
    "```\n",
    "def hello2():\n",
    "   return \"Hello World!\"\n",
    "\n",
    "def hello3(name):\n",
    "    return \"Hello, \", name\n",
    "```\n",
    "\n",
    "Calling the first function in this sample code as `msg = hello2()` will assign the string `Hello World!` to the `msg` variable, while calling the second of these functions as `msg = hello3()` will assign the tuple `('Hello', name)` to the `msg` variable. Note that for the `hello3` function, the argument is not required, as written, to be a string; therefore, the return tuple will have a string as the first element and the second element will be the same type as the argument `name`.\n",
    "\n",
    "Note, when returning multiple values as a tuple, we can either enclose the values in parentheses, or simply separate them with commas as shown in the example."
   ]
  },
  {
   "cell_type": "markdown",
   "metadata": {},
   "source": [
    "-----\n",
    "\n",
    "<font color='red' size = '5'> Student Exercise </font>\n",
    "\n",
    "In the empty **Code** cell below, create a simple function that takes a numerical argument and returns the argument multiplied by 10. Demonstrate your funtion works by displaying the result of the function on the integer 10.\n",
    "\n",
    "-----"
   ]
  },
  {
   "cell_type": "code",
   "execution_count": null,
   "metadata": {
    "collapsed": true
   },
   "outputs": [],
   "source": []
  },
  {
   "cell_type": "markdown",
   "metadata": {},
   "source": [
    "-----\n",
    "\n",
    "## Optional: Lambda Functions\n",
    "\n",
    "Python also supports the ability to create unnamed functions, which are short functions that are defined and used in place. An unnamed function in Python is called a `lambda` function and is defined by using the `lambda` keyword. lambda functions are often used in comprehensions or in function calls, when an argument expects a function. For example, we can create a `lambda` function that takes multiple arguments and assigns to an arbitrary variable for later invocation:\n",
    "\n",
    "```\n",
    "f = lambda x, y: x**2 + y**3\n",
    "\n",
    "print(f(3, 4))\n",
    "\n",
    "73\n",
    "```\n",
    "\n",
    "We can use a lambda function to create a list comprehension, either implicitly with a defined function like the previous example, or explicitly with an in-place `lambda` function. In either case, we can use the `map` function to apply the function to a range of input arguments.\n",
    "\n",
    "```\n",
    "[x for x in map(lambda x: (3*x**2 + 2*x + 4), range(-3,4))]\n",
    "```\n",
    "Will create the following list: \n",
    "\n",
    "    [25, 12, 5, 4, 9, 20, 37]\n",
    "-----"
   ]
  },
  {
   "cell_type": "markdown",
   "metadata": {},
   "source": [
    "## Ancillary Information\n",
    "\n",
    "The following links are to additional documentation that you might find helpful in learning this material. Reading these web-accessible documents is completely optional.\n",
    "\n",
    "1. The official Python documentation for [functions][1].\n",
    "2. The book _A Byte of Python_ includes an introduction to [functions](https://python.swaroopch.com/functions.html).\n",
    "3. A discussion on  [_functions_][2] from the book, _Dive into Python_.\n",
    "4. The book [_Think Python_][3] includes a discussion on functions.\n",
    "\n",
    "\n",
    "-----\n",
    "\n",
    "[1]: https://docs.python.org/3/tutorial/controlflow.html#defining-functions\n",
    "[2]: http://www.diveintopython.net/getting_to_know_python/declaring_functions.html\n",
    "[3]: http://greenteapress.com/thinkpython2/html/index.html"
   ]
  },
  {
   "cell_type": "markdown",
   "metadata": {
    "deletable": false,
    "editable": false
   },
   "source": [
    "**&copy; 2017: Robert J. Brunner at the University of Illinois.**\n",
    "\n",
    "This notebook is released under the [Creative Commons license CC BY-NC-SA 4.0][ll]. Any reproduction, adaptation, distribution, dissemination or making available of this notebook for commercial use is not allowed unless authorized in writing by the copyright holder.\n",
    "\n",
    "[ll]: https://creativecommons.org/licenses/by-nc-sa/4.0/legalcode"
   ]
  }
 ],
 "metadata": {
  "kernelspec": {
   "display_name": "Python 3",
   "language": "python",
   "name": "python3"
  },
  "language_info": {
   "codemirror_mode": {
    "name": "ipython",
    "version": 3
   },
   "file_extension": ".py",
   "mimetype": "text/x-python",
   "name": "python",
   "nbconvert_exporter": "python",
   "pygments_lexer": "ipython3",
   "version": "3.6.5"
  }
 },
 "nbformat": 4,
 "nbformat_minor": 1
}
