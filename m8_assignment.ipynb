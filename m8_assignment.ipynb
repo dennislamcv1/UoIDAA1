{
 "cells": [
  {
   "cell_type": "markdown",
   "metadata": {
    "deletable": false,
    "editable": false,
    "nbgrader": {
     "checksum": "01307f14a8c08e9221893710634c6c84",
     "grade": false,
     "grade_id": "intro",
     "locked": true,
     "schema_version": 1,
     "solution": false
    }
   },
   "source": [
    "# Module 8 Assignment\n",
    "\n",
    "\n",
    "A few things you should keep in mind when working on assignments:\n",
    "\n",
    "1. Make sure you fill in any place that says `YOUR CODE HERE`. Do **not** write your answer in anywhere else other than where it says `YOUR CODE HERE`. Anything you write anywhere else will be removed or overwritten by the autograder.\n",
    "\n",
    "2. Before you submit your assignment, make sure everything runs as expected. Go to menubar, select _Kernel_, and restart the kernel and run all cells (_Restart & Run all_).\n",
    "\n",
    "3. Do not change the title (i.e. file name) of this notebook.\n",
    "\n",
    "4. Make sure that you save your work (in the menubar, select _File_ → _Save and CheckPoint_)"
   ]
  },
  {
   "cell_type": "code",
   "execution_count": null,
   "metadata": {
    "collapsed": true,
    "deletable": false,
    "editable": false,
    "nbgrader": {
     "checksum": "5a91bc39a40bb598421de7c1273c4c8d",
     "grade": false,
     "grade_id": "import",
     "locked": true,
     "schema_version": 1,
     "solution": false
    }
   },
   "outputs": [],
   "source": [
    "% matplotlib inline\n",
    "\n",
    "import numpy as np\n",
    "import pandas as pd\n",
    "import matplotlib.pyplot as plt\n",
    "import matplotlib as mpl\n",
    "import seaborn as sns\n",
    "\n",
    "from sklearn.neighbors import KernelDensity\n",
    "\n",
    "from nose.tools import assert_equal, assert_is_instance, assert_is_not, assert_almost_equal"
   ]
  },
  {
   "cell_type": "markdown",
   "metadata": {
    "deletable": false,
    "editable": false,
    "nbgrader": {
     "checksum": "c4ba3cc2ebad8a534611612ea366cc2b",
     "grade": false,
     "grade_id": "p0_text",
     "locked": true,
     "schema_version": 1,
     "solution": false
    }
   },
   "source": [
    "The problems will use data from the down jones index."
   ]
  },
  {
   "cell_type": "code",
   "execution_count": null,
   "metadata": {
    "collapsed": true,
    "deletable": false,
    "editable": false,
    "nbgrader": {
     "checksum": "2fe40521aa9220df8564a0d5fddbb97f",
     "grade": false,
     "grade_id": "p0_run",
     "locked": true,
     "schema_version": 1,
     "solution": false
    }
   },
   "outputs": [],
   "source": [
    "#Load the data and see what it looks like\n",
    "df = pd.read_csv('./dow_jones_index.data')\n",
    "df.head()"
   ]
  },
  {
   "cell_type": "markdown",
   "metadata": {
    "deletable": false,
    "editable": false,
    "nbgrader": {
     "checksum": "ebffa883bd9c34350796700f8e4e52d5",
     "grade": false,
     "grade_id": "p1_text",
     "locked": true,
     "schema_version": 1,
     "solution": false
    }
   },
   "source": [
    "# Problem 1: Making a histogram\n",
    "\n",
    "Write a function called `histogram_plotter` that takes in a DataFrame, a column name from that DataFrame, and a number of bins, and plots a histogram of the data in that column.\n",
    "\n",
    "Furthermore:\n",
    "\n",
    "1. Set the y axis label to `Counts`\n",
    "\n",
    "2. Set the x axis label to the name of the column being plotted"
   ]
  },
  {
   "cell_type": "code",
   "execution_count": null,
   "metadata": {
    "collapsed": true,
    "deletable": false,
    "nbgrader": {
     "checksum": "f47879f601a4d65ba40e3e6d838821e7",
     "grade": false,
     "grade_id": "p1_answer",
     "locked": false,
     "schema_version": 1,
     "solution": true
    }
   },
   "outputs": [],
   "source": [
    "def histogram_plotter(df, column, num_bins):\n",
    "    \"\"\"\n",
    "    Input\n",
    "    ------\n",
    "    df: a pandas dataframe that contains the column we want to plot\n",
    "    \n",
    "    column: a string that is the name of the column to be plotted\n",
    "    \n",
    "    num_bins: an integer, the number of bins to use\n",
    "    \n",
    "    Output\n",
    "    ------\n",
    "    \n",
    "    ax: a matplotlib.axes._subplots.AxesSubplot object\n",
    "    \"\"\"\n",
    "        \n",
    "    ### YOUR CODE HERE\n",
    "    \n",
    "    return ax"
   ]
  },
  {
   "cell_type": "code",
   "execution_count": null,
   "metadata": {
    "collapsed": true,
    "deletable": false,
    "editable": false,
    "nbgrader": {
     "checksum": "5a0cf8b2799c68cee557280ab961108e",
     "grade": false,
     "grade_id": "p1_run",
     "locked": true,
     "schema_version": 1,
     "solution": false
    }
   },
   "outputs": [],
   "source": [
    "my_plot = histogram_plotter(df, 'open', 20)"
   ]
  },
  {
   "cell_type": "code",
   "execution_count": null,
   "metadata": {
    "collapsed": true,
    "deletable": false,
    "editable": false,
    "nbgrader": {
     "checksum": "40685e2980be7effdec0803aa6f3b893",
     "grade": true,
     "grade_id": "p1_test",
     "locked": true,
     "points": 1,
     "schema_version": 1,
     "solution": false
    }
   },
   "outputs": [],
   "source": [
    "assert_equal(my_plot.get_xlabel(), 'open')\n",
    "assert_is_instance(my_plot,mpl.axes. Axes)\n",
    "assert_almost_equal(my_plot.get_ylim()[1], 100.8)\n",
    "assert_equal(len(my_plot.get_xticks()), 11)\n",
    "assert_equal(my_plot.get_ylabel(), 'Counts')"
   ]
  },
  {
   "cell_type": "markdown",
   "metadata": {
    "deletable": false,
    "editable": false,
    "nbgrader": {
     "checksum": "73e3ee1952136c71c167e7b26c979c79",
     "grade": false,
     "grade_id": "p2_text",
     "locked": true,
     "schema_version": 1,
     "solution": false
    }
   },
   "source": [
    "# Problem 2: Kernel Density Estimation\n",
    "\n",
    "Write a function called `kde_plotter` that takes in a DataFrame, a column name from that DataFrame, and a number of bins, and plots a histogram of the data in that column along with a kernel density estimate of the data in that column, using the Sseaborn library.\n",
    "\n",
    "Furthermore:\n",
    "\n",
    "1. Set the y axis label to `Density`.\n",
    "\n",
    "2. Set the x axis label to the name of the column being plotted."
   ]
  },
  {
   "cell_type": "code",
   "execution_count": null,
   "metadata": {
    "collapsed": true,
    "deletable": false,
    "nbgrader": {
     "checksum": "5848e4326d7c63a498d6bf169336d03d",
     "grade": false,
     "grade_id": "p2_answer",
     "locked": false,
     "schema_version": 1,
     "solution": true
    }
   },
   "outputs": [],
   "source": [
    "def kde_plotter(df, column, num_bins):\n",
    "    \"\"\"\n",
    "    Input\n",
    "    ------\n",
    "    df: a pandas dataframe that contains the column we want to plot\n",
    "    \n",
    "    column: a string that is the name of the column to be plotted\n",
    "    \n",
    "    num_bins: an integer, the number of bins to use\n",
    "    \n",
    "    \n",
    "    Output\n",
    "    ------\n",
    "    \n",
    "    ax: a matplotlib.axes._subplots.AxesSubplot object\n",
    "    \"\"\"\n",
    "    \n",
    "   ### YOUR CODE HERE\n",
    "    \n",
    "    return ax"
   ]
  },
  {
   "cell_type": "code",
   "execution_count": null,
   "metadata": {
    "collapsed": true,
    "deletable": false,
    "editable": false,
    "nbgrader": {
     "checksum": "28d947ac2ed9f5d352db8d1be8dbaef8",
     "grade": false,
     "grade_id": "p2_run",
     "locked": true,
     "schema_version": 1,
     "solution": false
    }
   },
   "outputs": [],
   "source": [
    "my_kde = kde_plotter(df, 'open', 20)"
   ]
  },
  {
   "cell_type": "code",
   "execution_count": null,
   "metadata": {
    "collapsed": true,
    "deletable": false,
    "editable": false,
    "nbgrader": {
     "checksum": "38bef5fac1ed894c84acbf60b0709f9e",
     "grade": true,
     "grade_id": "p2_test",
     "locked": true,
     "points": 1,
     "schema_version": 1,
     "solution": false
    }
   },
   "outputs": [],
   "source": [
    "x, y = my_kde.get_lines()[0].get_data()\n",
    "assert_almost_equal(0.00159, y[10], places=3)\n",
    "assert_almost_equal(17.617908, x[20], places=3)\n",
    "assert_equal(my_kde.get_xlabel(), 'open')\n",
    "assert_is_instance(my_kde,mpl.axes.Axes)\n",
    "assert_equal(my_kde.get_ylabel(), 'Density')"
   ]
  },
  {
   "cell_type": "markdown",
   "metadata": {
    "deletable": false,
    "editable": false,
    "nbgrader": {
     "checksum": "db6a633a59075cc11bce5bad00704935",
     "grade": false,
     "grade_id": "p4_text_1",
     "locked": true,
     "schema_version": 1,
     "solution": false
    }
   },
   "source": [
    "# Problem 3: Generating More Stock Data\n",
    "\n",
    "We have taken a subset of the dow jones dataset and stored in a variable called `X` which is displayed below. Using the data in `X` we want to generate more stock data by fitting a KDE and sampling from its distribution.\n",
    "\n",
    "Your task is to complete the function `gen_stock_data`. This function takes in `X` (the data), `n_samples` (the number of samples to produce), and `random_state` (which is used to control to control the generator state used for random sampling.)\n",
    "\n",
    "For this function:\n",
    "- Create a `KernelDensity` by using the [sklearn's library KDE estimator](http://scikit-learn.org/stable/modules/generated/sklearn.neighbors.KernelDensity.html) *(Use the default parameters of KernelDensity)*.\n",
    "- fit the `KernelDensity` on `X`\n",
    "- Sample from the `KernelDensity` using `n_samples` and the `random_state`\n",
    "- Lastly, return the sample"
   ]
  },
  {
   "cell_type": "code",
   "execution_count": null,
   "metadata": {
    "collapsed": true,
    "deletable": false,
    "editable": false,
    "nbgrader": {
     "checksum": "392451bb7d163cfcbeedc46e4adde5eb",
     "grade": false,
     "grade_id": "p4_run",
     "locked": true,
     "schema_version": 1,
     "solution": false
    }
   },
   "outputs": [],
   "source": [
    "X = df[['open', 'high', 'low', 'close']]\n",
    "X.head()"
   ]
  },
  {
   "cell_type": "code",
   "execution_count": null,
   "metadata": {
    "collapsed": true,
    "deletable": false,
    "nbgrader": {
     "checksum": "1e068459c53696a68cde17d5d46f63d9",
     "grade": false,
     "grade_id": "p4_answer",
     "locked": false,
     "schema_version": 1,
     "solution": true
    }
   },
   "outputs": [],
   "source": [
    "def gen_stock_data(X, n_samples=100, random_state=0):\n",
    "    '''\n",
    "    X - dataset containing subset of dowjones\n",
    "    n_samples - integer which tells us how many samples to return\n",
    "    random_state - controls generator state for random sampling\n",
    "    '''\n",
    "    \n",
    "    ### YOUR CODE HERE"
   ]
  },
  {
   "cell_type": "markdown",
   "metadata": {
    "deletable": false,
    "editable": false,
    "nbgrader": {
     "checksum": "60e7ad8d107b14d2998794a78e5ded63",
     "grade": false,
     "grade_id": "p4_text_2",
     "locked": true,
     "schema_version": 1,
     "solution": false
    }
   },
   "source": [
    "## Visually let us compare generated data against sampled data"
   ]
  },
  {
   "cell_type": "code",
   "execution_count": null,
   "metadata": {
    "collapsed": true,
    "deletable": false,
    "editable": false,
    "nbgrader": {
     "checksum": "f6d2116144b613b87d0d386ee861d628",
     "grade": false,
     "grade_id": "p4_run_1",
     "locked": true,
     "schema_version": 1,
     "solution": false
    }
   },
   "outputs": [],
   "source": [
    "sd1 = gen_stock_data(X, n_samples=1000, random_state=0)\n",
    "fig, ((ax1_orig, ax2_orig, ax3_orig, ax4_orig),\n",
    "      (ax1_samp ,ax2_samp, ax3_samp, ax4_samp)) = plt.subplots(2, 4, figsize=(10, 5))\n",
    "\n",
    "ax1_orig.hist(X.open, alpha=0.5, color=sns.xkcd_rgb[\"denim blue\"], normed=True, label='')\n",
    "ax2_orig.hist(X.high, alpha=0.5, color=sns.xkcd_rgb[\"denim blue\"], normed=True, label='')\n",
    "ax3_orig.hist(X.low, alpha=0.5, color=sns.xkcd_rgb[\"denim blue\"], normed=True, label='')\n",
    "ax4_orig.hist(X.close, alpha=0.5, color=sns.xkcd_rgb[\"denim blue\"], normed=True, label='')\n",
    "\n",
    "def column(matrix, i):\n",
    "    return [row[i] for row in matrix]\n",
    "\n",
    "ax1_samp.hist(column(sd1,0), alpha=0.5, color=sns.xkcd_rgb[\"denim blue\"], normed=True, label='')\n",
    "ax2_samp.hist(column(sd1,1), alpha=0.5, color=sns.xkcd_rgb[\"denim blue\"], normed=True, label='')\n",
    "ax3_samp.hist(column(sd1,2), alpha=0.5, color=sns.xkcd_rgb[\"denim blue\"], normed=True, label='')\n",
    "ax4_samp.hist(column(sd1,3), alpha=0.5, color=sns.xkcd_rgb[\"denim blue\"], normed=True, label='')\n",
    "\n",
    "for i in [ax1_orig, ax2_orig, ax3_orig, ax4_orig, ax1_samp ,ax2_samp, ax3_samp, ax4_samp]:\n",
    "    if i != ax1_orig or i != ax1_samp:\n",
    "        i.set_yticks([])\n",
    "\n",
    "ax1_orig.set_title('open', fontsize=14)\n",
    "ax2_orig.set_title('high', fontsize=14)\n",
    "ax3_orig.set_title('low', fontsize=14)\n",
    "ax4_orig.set_title('close', fontsize=14)\n",
    "ax1_orig.set_ylabel('Orignal Data', fontsize=14)\n",
    "ax1_samp.set_ylabel('Sampled Data', fontsize=14)"
   ]
  },
  {
   "cell_type": "markdown",
   "metadata": {
    "deletable": false,
    "editable": false,
    "nbgrader": {
     "checksum": "560b0f706bd0979610353a487afbefdd",
     "grade": false,
     "grade_id": "p4_text_3",
     "locked": true,
     "schema_version": 1,
     "solution": false
    }
   },
   "source": [
    "## Check Your Solution"
   ]
  },
  {
   "cell_type": "code",
   "execution_count": null,
   "metadata": {
    "collapsed": true,
    "deletable": false,
    "editable": false,
    "nbgrader": {
     "checksum": "7c5795d671b9b006e7006200101d4eb2",
     "grade": true,
     "grade_id": "p4_test",
     "locked": true,
     "points": 1,
     "schema_version": 1,
     "solution": false
    }
   },
   "outputs": [],
   "source": [
    "from helper import gsd\n",
    "\n",
    "assert_is_instance(sd1, np.ndarray, msg='Your function does not return a numpy array.')\n",
    "assert_equal(len(sd1), 1000, msg='Your function should use the n_samples parameter. The array should return 1000 rows it current returns {0}'.format(len(sd1)))\n",
    "assert_equal(np.array_equal(sd1, gsd(X, n_samples=1000, random_state=0)), True, msg='The generated data does not match the solution')"
   ]
  },
  {
   "cell_type": "markdown",
   "metadata": {
    "deletable": false,
    "editable": false
   },
   "source": [
    "**&copy; 2017: Robert J. Brunner at the University of Illinois.**\n",
    "\n",
    "This notebook is released under the [Creative Commons license CC BY-NC-SA 4.0][ll]. Any reproduction, adaptation, distribution, dissemination or making available of this notebook for commercial use is not allowed unless authorized in writing by the copyright holder.\n",
    "\n",
    "[ll]: https://creativecommons.org/licenses/by-nc-sa/4.0/legalcode "
   ]
  }
 ],
 "metadata": {
  "anaconda-cloud": {},
  "celltoolbar": "Edit Metadata",
  "coursera": {
   "course_slug": "data-analytics-accountancy-1",
   "graded_item_id": "UdH6s",
   "launcher_item_id": "m8_assignment"
  },
  "kernelspec": {
   "display_name": "Python 3",
   "language": "python",
   "name": "python3"
  },
  "language_info": {
   "codemirror_mode": {
    "name": "ipython",
    "version": 3
   },
   "file_extension": ".py",
   "mimetype": "text/x-python",
   "name": "python",
   "nbconvert_exporter": "python",
   "pygments_lexer": "ipython3",
   "version": "3.6.5"
  }
 },
 "nbformat": 4,
 "nbformat_minor": 2
}
