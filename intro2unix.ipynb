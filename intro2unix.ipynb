{
 "cells": [
  {
   "cell_type": "markdown",
   "metadata": {},
   "source": [
    "# Introduction to Unix    \n",
    "\n",
    "-----"
   ]
  },
  {
   "cell_type": "markdown",
   "metadata": {},
   "source": [
    "In this course, you will do most of your work inside a Jupyter notebook running on the course server. The course server that runs the Jupyter system you are using, however, is itself running on a (virtualized) Unix system, essentially in the cloud. In addition, since you will need to read and write data, you will be directly working with the Unix filesystem. Finally, since you will likely work on cloud systems, either explicitly or implicitly, in your future career, it is prudent to learn the basics of Unix in order to be more proficient.\n",
    "\n",
    "The Unix operating system is a complex technology that underlies many current operating systems, including both Linux and Mac OSX. In this lesson, we will briefly review basic Unix concepts:\n",
    "\n",
    "- the Unix Shell,\n",
    "- the Unix filesystem,\n",
    "- file permissions, \n",
    "- how to work with directories and files,\n",
    "- anonymous file downloads, and\n",
    "- how to view the contents of files.\n",
    "\n",
    "In this course, you can work directly at the Unix command prompt by opening a terminal window from your course Jupyter server, or execute the commands in a Notebook code cell by prefixing them with an exclamation symbol, `!`. This notebook will demonstrate both approaches, the former through screenshots (which might look slightly different than your server) and code cells.\n",
    "\n",
    "-----"
   ]
  },
  {
   "cell_type": "markdown",
   "metadata": {},
   "source": [
    "## The Unix Shell\n",
    "\n",
    "A standard [Unix](http://en.wikipedia.org/wiki/Unix) system provides a command-line interface to allow a user to interact with the underlying hardware. While this may lack the ease of use most modern graphical operating systems provide, a command line has several benefits:\n",
    "\n",
    "1. Flexible and powerful access to the underlying hardware\n",
    "2. Interactions are identical between local and remote hardware\n",
    "3. Commands can be connected or their input/output redirected\n",
    "\n",
    "The standard command-line interface on a Unix system is provided by a program called a _shell_. While several different shells exist, one of the more popular is the [Bash shell](http://en.wikipedia.org/wiki/Bash_(Unix_shell), which is what we will use by default in this course.\n",
    "\n",
    "A shell allows a user to run (multiple) programs, to redirect the input and output from programs, and to connect programs together by using pipes. They also allow a user to move around the filesystem, and to automate basic processing by writing small programs known as shell scripts.\n",
    "\n",
    "Commands are entered at the shell prompt. In this course, we  have one primary shell prompt, the JupyterHub server terminal prompt, which is something similar to\n",
    "`data_scientist@temp_host:~$`. Unix based operating systems, like Linux and Mac OSX, include terminal applications that can be used in much the same manner as the JupyterHub server command prompt.\n",
    "\n",
    "Any commands you enter will include the relevant prompt to help clarify where you should enter the command text.\n",
    "\n",
    "-----"
   ]
  },
  {
   "cell_type": "markdown",
   "metadata": {},
   "source": [
    "## The Unix Filesystem\n",
    "\n",
    "The [Unix filesystem](http://en.wikipedia.org/wiki/Unix_filesystem) provides for data storage and retrieval from the underlying hardware, as well as interprocess communication through pipes. The Unix filesystem is based on a single rooted tree model. The root of the tree is known as the __root__ directory, and is denoted by the `/` character. Sub-directories branch off from this root directory to form the entire filesystem hierarchy.\n",
    "\n",
    "Files and directories have owners and groups (for example, I am the owner of this lesson, but the entire class will have group access). A special owner is known as root, or the superuser. If you have sufficient privileges, you can switch to the superuser by using the `sudo` command. Each entry in the file system has a permission mask that specifies what the owner, the group, and the entire world (or all) can do to the particular item.\n",
    "\n",
    "For example, in our Jupyter server terminal we have the following root directory:\n",
    "\n",
    "![Docker root](images/docker-root.png)\n",
    "\n",
    "listing a number of standard directories, including `bin`, `dev`, `home`, `usr`, `var`, and `lib` subdirectories. Inside each of these directories can be additional directories or files, thus forming the entire tree-like structure. To list these directories, we use the `ls` command.\n",
    "\n",
    "### `ls`\n",
    "This command is used to list the contents of a directory. The directory is supplied as a parameter, for example to list the contents of the root folder:\n",
    "\n",
    "```bash\n",
    "$ ls /\n",
    "```\n",
    "\n",
    "The `ls` command takes a number of different parameters, two of the more useful parameters include\n",
    "\n",
    "- `-a` to list all files and directories. Any entry with a `.` or dot as the first character is by default hidden when listing the contents of a directory.\n",
    "- `-l` to list the long format of each entry. This is useful to see the permissions and owner of a directory or file.\n",
    "\n",
    "In your Jupyter server terminal, you can display the full listing for all files in the `/usr` directory. \n",
    "\n",
    "![Docker list](images/docker-ls.png)\n",
    "\n",
    "In this listing, the first two entries show the current directory, indicated by a single `.` character, and then the parent directory, indicated by two `.` characters. After this the full directory listing is shown in alphanumeric sorted order. \n",
    "\n",
    "-----"
   ]
  },
  {
   "cell_type": "markdown",
   "metadata": {},
   "source": [
    "<font color='red' size = '5'> Student Exercise </font>\n",
    "\n",
    "In the empty **Code** cell below, execute a directory listing command that shows the full listing for all files in the root, or `/`, directory. Recall that Unix commands should be preceded by an exclamation mark, `!`, to be executed within a Jupyter Notebook code cell.\n",
    "\n",
    "-----"
   ]
  },
  {
   "cell_type": "code",
   "execution_count": null,
   "metadata": {
    "collapsed": true
   },
   "outputs": [],
   "source": []
  },
  {
   "cell_type": "markdown",
   "metadata": {},
   "source": [
    "-----"
   ]
  },
  {
   "cell_type": "markdown",
   "metadata": {},
   "source": [
    "## File Permissions\n",
    "\n",
    "In a long directory listing, the first column specifies the _mode_ and _permission_ in a specific order: _muuugggaaa_\n",
    "\n",
    "_m_ stands for the mode, which can be `d` for a directory or it can be empty, indicated by a `-` character for a file. Other [modes](http://en.wikipedia.org/wiki/Unix_file_types) are more advanced (and beyond this lesson), and include a link, a pipe, or a socket; for example, an `l` indicates a link.\n",
    "\n",
    "The next segment contains three _triads_, or permission groupings for user (_u_) specific permission, group (_g_) specific permission, and world or all (_a_) specific permissions. There are three types of permissions available: read, write, and execute, and they are listed in that order. If a permission is not granted, it is indicated by a `-` character in the relevant position. So `-rwxr-xr-x` means the entry is a file that can be read, written, and executed by the user, but only read and executed by the group to which the file belongs or by anyone who can access file. Unix file permissions can be confusing, but with practice will begin to make sense.\n",
    "\n",
    "The owner, group, and permissions can be changed for an item by using the `chown`, `chgrp`, and `chmod` commands. Each of these commands can take `-R` as a flag to indicate that the operation should be performed recursively if the item is a directory. This will change every sub-directory or file contained within that directory or sub-directory.\n",
    "\n",
    "### `chown`\n",
    "This command is used to change the owner of a file or directory. May require superuser privileges. For example, to change the owner of _myfile_ to user _rb_:\n",
    "\n",
    "```bash\n",
    "$ chown rb myfile\n",
    "```\n",
    "\n",
    "### `chgrp`\n",
    "This command is used to change the group of a file or directory. May require superuser privileges. For example, to change the group of _myfile_ to group _www_:\n",
    "\n",
    "```bash\n",
    "$ chgrp www myfile\n",
    "```\n",
    "\n",
    "### `chmod`\n",
    "This command is used to change specific permissions of a file or directory. May require superuser privileges. For example, to change the permissions to allow anyone to read _myfile_:\n",
    "\n",
    "```bash\n",
    "$ chmod a+r myfile\n",
    "```\n",
    "\n",
    "Note this command also can use octal notation to specify the target permission, which is more compact, but sometimes more susceptible to user error.\n",
    "\n",
    "In our Jupyter server terminal, we only have the _root_ user and _root_ group, thus we can't try out the first two commands; however, we can change file or directory permissions.\n",
    "\n",
    "-----"
   ]
  },
  {
   "cell_type": "markdown",
   "metadata": {},
   "source": [
    "## Unix File System Commands\n",
    "\n",
    "There are a number of Unix commands that we can use to view, move, create, and change files and directories. Some of the more useful ones include:        \n",
    "\n",
    "### `pwd`\n",
    "This command is used to find out the name of the current working directory.\n",
    "\n",
    "```bash\n",
    "$ pwd\n",
    "```\n",
    "\n",
    "### `cd`\n",
    "This command is used to change the current working directory. If a directory is specified, we change to that directory, otherwise we change to the user's home directory. Directory names can be absolute (starting with the root directory, or `/`) or relative, where we use two `.` characters to signal the parent directory of the current directory (one `.` character represents the current directory):\n",
    "\n",
    "```bash\n",
    "$ cd /notebooks\n",
    "$ cd ..\n",
    "```\n",
    "\n",
    "### `touch`\n",
    "This command is used to make a new, empty file, with the name specified on the command line. For example to make a new, empty file called _myfile_:\n",
    "\n",
    "```bash\n",
    "$ touch myfile\n",
    "```\n",
    "\n",
    "### `mkdir`\n",
    "This command is used to make a new directory, with the name specified on the command line. Note that this might require superuser privileges. For example, to make a new directory called _mytest_:\n",
    "\n",
    "```bash\n",
    "$ mkdir mytest\n",
    "```\n",
    "\n",
    "### `rmdir`\n",
    "This command is used to remove an empty directory. Note that this might require superuser privileges. For example, to delete a directory called _mytest_:\n",
    "\n",
    "```bash\n",
    "$ rmdir mytest\n",
    "```\n",
    "\n",
    "### `rm`\n",
    "This command is used to remove files or directories. To forcibly remove all entries (including non-empty directories) you can use the `-rf` flag. For example, to remove _myfile_:\n",
    "\n",
    "```bash\n",
    "$ rm myfile\n",
    "```\n",
    "\n",
    "![Docker rm](images/docker-rm.png)\n",
    "\n",
    "### <font color ='red'>Warning:</font> Removing files or directories at the Unix command prompt is permanent!\n",
    "\n",
    "-----"
   ]
  },
  {
   "cell_type": "markdown",
   "metadata": {},
   "source": [
    "<font color='red' size = '5'> Student Exercise </font>\n",
    "\n",
    "In the empty **Code** cell below, complete the following tasks:\n",
    "\n",
    "1. Create an empty file named _analytics.txt_.\n",
    "2. Display the full listing of this file only.\n",
    "3. Change the permission on the file to be `-rwxrw-r--`.\n",
    "4. Display the full listing of this file only to verify the permissions have changed.\n",
    "5. Delete this file.\n",
    "\n",
    "Note that you can place multiple Unix commands in a Jupyter Notebook code cell, just place one command per line, and precede each command by an exclamation point, for example `!ls`.\n",
    "\n",
    "-----"
   ]
  },
  {
   "cell_type": "code",
   "execution_count": null,
   "metadata": {
    "collapsed": true
   },
   "outputs": [],
   "source": []
  },
  {
   "cell_type": "markdown",
   "metadata": {},
   "source": [
    "-----"
   ]
  },
  {
   "cell_type": "markdown",
   "metadata": {},
   "source": [
    "## Anonymous File Download\n",
    "\n",
    "In many instances, we simply want to grab a file (or files) from an Internet resource, like a website. The simplest command to grab a file from a website is the `wget` command. When given a URL to the desired resource, `wget` will retrieve the file and save it locally. \n",
    "\n",
    "    $ wget http://w3c.org\n",
    "\n",
    "`wget` is a powerful program with many options. For example, `wget` can recursively download an entire directory structure (which can be dangerous as you can easily fill up your available disk space!).\n",
    "     \n",
    "-----"
   ]
  },
  {
   "cell_type": "markdown",
   "metadata": {},
   "source": [
    "## Viewing Data\n",
    "\n",
    "An important task that you will need to learn is how to view the contents of a file. In a graphical interface, you might open a document editor, such as a word processor, and load the file into your editor. At the command line, however, we simply use a Unix command to open a file for reading and to display the contents of a file to `stdout`, which is generally the screen.\n",
    "\n",
    "Several commands are useful for viewing files:\n",
    "\n",
    "### [`cat`][1]\n",
    "\n",
    "This command is used to view the entire contents of a file. For example, to send the contents of myfile to `stdout`, which in this case is the terminal display:\n",
    "\n",
    "```bash\n",
    "$ cat myfile\n",
    "```\n",
    "\n",
    "### [`less`][2]\n",
    "\n",
    "This command is used to view the contents of a file, one screen at a time. Additional options are available that can be changed while viewing the file, providing a lot of flexibility. `less` is a more recent version of the `more` command, which can also be used. For example, to page through the contents of myfile (using the spacebar to go to the next screen, or the `b` key to go back one screen):\n",
    "\n",
    "```bash\n",
    "$ less myfile\n",
    "```\n",
    "\n",
    "### [`head`][3]\n",
    "\n",
    "This command is used to view a limited number of lines from the start (or head) of the file. By default, the first 10 lines will be displayed, but you can specify the exact number by using the `-n num` flag, where _num_ is the number of lines to display. For example, to display the first five lines from myfile:\n",
    "\n",
    "```bash\n",
    "$ head -5 myfile\n",
    "```\n",
    "\n",
    "### [`tail`][4]\n",
    "\n",
    "This command is used to view a limited number of lines from the end (or tail) of the file. By default, the first 10 lines will be displayed, but you can specify the exact number by using the `-n num` flag, where _num_ is the number of lines to display. For example, to display the last three lines from myfile:\n",
    "\n",
    "\n",
    "```bash\n",
    "$ tail -3 myfile\n",
    "```\n",
    "\n",
    "Another useful option for the `tail` command is the `-f` flag, which can be used to display the last lines of a file that might be continually updated (e.g., the output of another command).\n",
    "\n",
    "-----\n",
    "\n",
    "We can demonstrate several of these commands by first grabbing some data (by using the [`wget`][5] command, which is an optional command in this course) and viewing part of the data.\n",
    "\n",
    "![Viewing data example](images/shell-view.png)\n",
    "\n",
    "-----\n",
    "[1]: https://en.wikipedia.org/wiki/Cat_(Unix)\n",
    "[2]: https://en.wikipedia.org/wiki/Less_(Unix)\n",
    "[3]: https://en.wikipedia.org/wiki/Head_(Unix)\n",
    "[4]: https://en.wikipedia.org/wiki/Tail_(Unix)\n",
    "[5]: https://en.wikipedia.org/wiki/Wget"
   ]
  },
  {
   "cell_type": "markdown",
   "metadata": {},
   "source": [
    "## Ancillary Information\n",
    "\n",
    "The following links are to additional documentation that you might find helpful in learning this material. Reading these web-accessible documents is completely optional.\n",
    "\n",
    "1. A UNIX [Tutorial for Beginners](http://www.tutorialspoint.com/unix/)\n",
    "2. The [Linux Command Line (PDF)](http://sourceforge.net/projects/linuxcommand/?source=dlp)\n",
    "3. [Introduction to Linux](http://www.tldp.org/LDP/intro-linux/html/index.html), a hands on guide.\n",
    "4. A [Bash Shell Programming Introduction](http://tldp.org/HOWTO/Bash-Prog-Intro-HOWTO.html)\n",
    "5. Wikipedia page for [`wget`](https://en.wikipedia.org/wiki/Wget)\n",
    "\n",
    "-----"
   ]
  },
  {
   "cell_type": "markdown",
   "metadata": {
    "deletable": false,
    "editable": false
   },
   "source": [
    "**&copy; 2017: Robert J. Brunner at the University of Illinois.**\n",
    "\n",
    "This notebook is released under the [Creative Commons license CC BY-NC-SA 4.0][ll]. Any reproduction, adaptation, distribution, dissemination or making available of this notebook for commercial use is not allowed unless authorized in writing by the copyright holder.\n",
    "\n",
    "[ll]: https://creativecommons.org/licenses/by-nc-sa/4.0/legalcode "
   ]
  }
 ],
 "metadata": {
  "kernelspec": {
   "display_name": "Python 3 (ipykernel)",
   "language": "python",
   "name": "python3"
  },
  "language_info": {
   "codemirror_mode": {
    "name": "ipython",
    "version": 3
   },
   "file_extension": ".py",
   "mimetype": "text/x-python",
   "name": "python",
   "nbconvert_exporter": "python",
   "pygments_lexer": "ipython3",
   "version": "3.9.12"
  }
 },
 "nbformat": 4,
 "nbformat_minor": 1
}
